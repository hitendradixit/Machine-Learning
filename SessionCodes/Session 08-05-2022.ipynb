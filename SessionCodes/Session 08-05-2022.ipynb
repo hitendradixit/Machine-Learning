{
 "cells": [
  {
   "cell_type": "code",
   "execution_count": 112,
   "metadata": {},
   "outputs": [
    {
     "name": "stdout",
     "output_type": "stream",
     "text": [
      "Hello World\n"
     ]
    }
   ],
   "source": [
    "print(\"Hello World\")"
   ]
  },
  {
   "cell_type": "code",
   "execution_count": 117,
   "metadata": {},
   "outputs": [
    {
     "name": "stdout",
     "output_type": "stream",
     "text": [
      "Hello,-how are you?Adam\n"
     ]
    }
   ],
   "source": [
    "#To give output\n",
    "print(\"Hello,\", \"how are you?\",sep = \"-\",end = \"\") #seperator, by default the sep is a space\n",
    "#end will end the line with the charc specified by default it will move the cursor to next line\n",
    "#to keep on same line just give end = ''\n",
    "print(\"Adam\")\n"
   ]
  },
  {
   "cell_type": "markdown",
   "metadata": {},
   "source": [
    "Variables"
   ]
  },
  {
   "cell_type": "code",
   "execution_count": 121,
   "metadata": {},
   "outputs": [
    {
     "name": "stdout",
     "output_type": "stream",
     "text": [
      "<class 'float'>\n"
     ]
    }
   ],
   "source": [
    "x = 20.3\n",
    "print(type(x))"
   ]
  },
  {
   "cell_type": "code",
   "execution_count": 118,
   "metadata": {},
   "outputs": [
    {
     "name": "stdout",
     "output_type": "stream",
     "text": [
      "I love: Apple\n"
     ]
    }
   ],
   "source": [
    "x = \"Apple\"\n",
    "print(\"I love: \" + x) #will concat the statement inside double quotes with x"
   ]
  },
  {
   "cell_type": "code",
   "execution_count": 124,
   "metadata": {},
   "outputs": [
    {
     "name": "stdout",
     "output_type": "stream",
     "text": [
      "Orange Banana\n"
     ]
    }
   ],
   "source": [
    "x = \"Orange\"\n",
    "y = \"Banana\"\n",
    "z = x + \" \" + y  #concat of x and y\n",
    "print(z)"
   ]
  },
  {
   "cell_type": "markdown",
   "metadata": {},
   "source": [
    "By deafult the input type of variable is string"
   ]
  },
  {
   "cell_type": "code",
   "execution_count": 127,
   "metadata": {},
   "outputs": [
    {
     "name": "stdout",
     "output_type": "stream",
     "text": [
      "1314\n"
     ]
    }
   ],
   "source": [
    "x = input(\"Enter your first Number: \")\n",
    "y = input(\"Enter your second Number: \")\n",
    "z = x + y #this will not give the addition of 2 numbers instead will give the concat of the two values eneterd\n",
    "#print(type(x)) #type() is used to check the datatype of the variables\n",
    "print(z)"
   ]
  },
  {
   "cell_type": "markdown",
   "metadata": {},
   "source": [
    "Type Conversion"
   ]
  },
  {
   "cell_type": "code",
   "execution_count": 130,
   "metadata": {},
   "outputs": [
    {
     "name": "stdout",
     "output_type": "stream",
     "text": [
      "12\n",
      "<class 'str'>\n"
     ]
    }
   ],
   "source": [
    "x = str(12)\n",
    "print(x)\n",
    "print(type(x))"
   ]
  },
  {
   "cell_type": "code",
   "execution_count": 131,
   "metadata": {},
   "outputs": [
    {
     "name": "stdout",
     "output_type": "stream",
     "text": [
      "25\n"
     ]
    }
   ],
   "source": [
    "x = int(input(\"Enter your first Number: \")) #we have converted it to int type\n",
    "y = int(input(\"Enter your second Number: \"))\n",
    "z = x + y #this will  give the addition of 2 numbers\n",
    "print(z) #type() is used to check the datatype of the variables"
   ]
  },
  {
   "cell_type": "markdown",
   "metadata": {},
   "source": [
    "Defining multiple variables in single line"
   ]
  },
  {
   "cell_type": "code",
   "execution_count": 132,
   "metadata": {},
   "outputs": [
    {
     "name": "stdout",
     "output_type": "stream",
     "text": [
      "Apple Banana Orange\n"
     ]
    }
   ],
   "source": [
    "x, y, z = \"Apple\", \"Banana\", \"Orange\"\n",
    "print(x, y, z)"
   ]
  },
  {
   "cell_type": "markdown",
   "metadata": {},
   "source": [
    "Global and Local Variables"
   ]
  },
  {
   "cell_type": "code",
   "execution_count": 134,
   "metadata": {},
   "outputs": [
    {
     "name": "stdout",
     "output_type": "stream",
     "text": [
      "I love: Apple\n",
      "I love: Kiwi\n",
      "Apple\n"
     ]
    }
   ],
   "source": [
    "x = \"Apple\" #Global Variable GV\n",
    "def myfunc(): #function defination\n",
    "    a = \"Kiwi\" #local variable LV\n",
    "    print(\"I love: \" + x) #take care of indentation\n",
    "    print(\"I love: \" + a)\n",
    "    #to come out of the function hit enter and then backspace\n",
    "myfunc()\n",
    "print(x) #printing a GV\n",
    "#print(a) #printing a LV this will thorw an error cause its not having scope outside the myfunc()\n",
    "\n"
   ]
  },
  {
   "cell_type": "markdown",
   "metadata": {},
   "source": [
    "DataTypes\n",
    "text-type - str\n",
    "numeric - int, float,complex\n",
    "squence - list, tuple, range\n",
    "mapping - dict\n",
    "set types - set,frozenset\n",
    "boolean type - bool\n",
    "binary - bytes, bytearray\n",
    "none - NoneType"
   ]
  },
  {
   "cell_type": "code",
   "execution_count": 274,
   "metadata": {},
   "outputs": [
    {
     "name": "stdout",
     "output_type": "stream",
     "text": [
      "37\n"
     ]
    }
   ],
   "source": [
    "import random\n",
    "print(random.randrange(1,100)) # 1 <= num <100"
   ]
  },
  {
   "cell_type": "markdown",
   "metadata": {},
   "source": [
    "Strings - Modification and Formatted Strings"
   ]
  },
  {
   "cell_type": "code",
   "execution_count": 279,
   "metadata": {},
   "outputs": [
    {
     "name": "stdout",
     "output_type": "stream",
     "text": [
      "HELLO WORLD\n"
     ]
    }
   ],
   "source": [
    "x = \"hello world\"\n",
    "print(x.upper()) #will make the whole string in upper case\n"
   ]
  },
  {
   "cell_type": "code",
   "execution_count": 306,
   "metadata": {},
   "outputs": [
    {
     "name": "stdout",
     "output_type": "stream",
     "text": [
      "['Apple,', 'Banana,', 'Orange']\n"
     ]
    }
   ],
   "source": [
    "x = input(\"Enter fruit names: \")\n",
    "\n",
    "print(x.split()) #by default it splits on the basis of space"
   ]
  },
  {
   "cell_type": "code",
   "execution_count": 310,
   "metadata": {},
   "outputs": [
    {
     "name": "stdout",
     "output_type": "stream",
     "text": [
      "Hello              How are you             sample\n",
      "Hello How are you sample\n"
     ]
    }
   ],
   "source": [
    "x = \"             How are you            \"\n",
    "y = \"Hello\"\n",
    "z = \"sample\"\n",
    "print(y , x,z)\n",
    "print(y,x.strip(),z)# strip() will remove all the sapces from right and left"
   ]
  },
  {
   "cell_type": "code",
   "execution_count": 311,
   "metadata": {},
   "outputs": [
    {
     "name": "stdout",
     "output_type": "stream",
     "text": [
      "jello World\n"
     ]
    }
   ],
   "source": [
    "x = \"Hello World\"\n",
    "print(x.replace('H','j'))"
   ]
  },
  {
   "cell_type": "code",
   "execution_count": 284,
   "metadata": {},
   "outputs": [
    {
     "name": "stdout",
     "output_type": "stream",
     "text": [
      "The sum of 13 and 14 is 27\n"
     ]
    }
   ],
   "source": [
    "x = int(input(\"Enter the first number: \"))\n",
    "y = int(input(\"Enter the second Number: \"))\n",
    "sum = x + y\n",
    "#when you want to print a variable in between a message in one message then we'll use formatted string\n",
    "print(f\"The sum of {x} and {y} is {sum}\") #formatted string"
   ]
  },
  {
   "cell_type": "markdown",
   "metadata": {},
   "source": [
    "Unpacking the list"
   ]
  },
  {
   "cell_type": "code",
   "execution_count": 285,
   "metadata": {},
   "outputs": [
    {
     "name": "stdout",
     "output_type": "stream",
     "text": [
      "Kiwi\n",
      "Peach\n",
      "Orange\n",
      "Kiwi Peach Orange\n"
     ]
    }
   ],
   "source": [
    "fruit = [\"Kiwi\", \"Peach\", \"Orange\"]\n",
    "x, y, z = fruit\n",
    "print(x)\n",
    "print(y)\n",
    "print(z)\n",
    "print(x, y, z)"
   ]
  },
  {
   "cell_type": "markdown",
   "metadata": {},
   "source": [
    "Operators"
   ]
  },
  {
   "cell_type": "code",
   "execution_count": 287,
   "metadata": {},
   "outputs": [],
   "source": [
    "x = 25\n",
    "y = 7\n",
    "sum = x + y\n",
    "diff = x - y\n",
    "multiply = x * y\n",
    "division = x / y\n",
    "power = x ** 4 # this is equivalent to x raise to the power 3\n",
    "reaminder = x % y #this will give the remainder when x is divided by y\n",
    "quotient = x//y #this will only give the quotient when x is divide by y"
   ]
  },
  {
   "cell_type": "code",
   "execution_count": 288,
   "metadata": {},
   "outputs": [
    {
     "name": "stdout",
     "output_type": "stream",
     "text": [
      "The sum of 25 and 7 is 32\n",
      "The diff of 25 and 7 is 18\n",
      "The multiply of 25 and 7 is 175\n",
      "The division of 25 and 7 is 3.5714285714285716\n",
      "The power of 25 to 3 is 390625\n",
      "The reaminder of 25 and 7 is 4\n",
      "The quotient of 25 and 7 is 3\n"
     ]
    }
   ],
   "source": [
    "print(f\"The sum of {x} and {y} is {sum}\")\n",
    "print(f\"The diff of {x} and {y} is {diff}\")\n",
    "print(f\"The multiply of {x} and {y} is {multiply}\")\n",
    "print(f\"The division of {x} and {y} is {division}\")\n",
    "print(f\"The power of {x} to 3 is {power}\")\n",
    "print(f\"The reaminder of {x} and {y} is {reaminder}\")\n",
    "print(f\"The quotient of {x} and {y} is {quotient}\")"
   ]
  },
  {
   "cell_type": "markdown",
   "metadata": {},
   "source": [
    "Assignment Operators"
   ]
  },
  {
   "cell_type": "code",
   "execution_count": 297,
   "metadata": {},
   "outputs": [
    {
     "name": "stdout",
     "output_type": "stream",
     "text": [
      "332525673007965087890625\n"
     ]
    }
   ],
   "source": [
    "x = 15\n",
    "#x = x + 20\n",
    "x += 20 #this is the shorthand for x = x + 20, you are adding 15 to x and again storing it back to x\n",
    "print(x)"
   ]
  },
  {
   "cell_type": "code",
   "execution_count": 312,
   "metadata": {},
   "outputs": [
    {
     "name": "stdout",
     "output_type": "stream",
     "text": [
      "10010\n"
     ]
    }
   ],
   "source": [
    "#to convert decimal to binary\n",
    "def decimalToBinary(n):\n",
    "    return bin(n).replace(\"0b\", \"\")\n",
    "\n",
    "print(decimalToBinary(18))"
   ]
  },
  {
   "cell_type": "markdown",
   "metadata": {},
   "source": [
    "Bitwise Operator"
   ]
  },
  {
   "cell_type": "code",
   "execution_count": 315,
   "metadata": {},
   "outputs": [
    {
     "name": "stdout",
     "output_type": "stream",
     "text": [
      "18\n"
     ]
    }
   ],
   "source": [
    "x = 16\n",
    "y = 18\n",
    "z = x | y #converts first the value of x and y to binary and then use the OR operator to get the result and converts back the rsult to decimal\n",
    "print(z)"
   ]
  },
  {
   "cell_type": "code",
   "execution_count": 102,
   "metadata": {},
   "outputs": [
    {
     "name": "stdout",
     "output_type": "stream",
     "text": [
      "-3\n"
     ]
    }
   ],
   "source": [
    "x = 2\n",
    "print(~x)"
   ]
  },
  {
   "cell_type": "markdown",
   "metadata": {},
   "source": [
    "Comparison Operators"
   ]
  },
  {
   "cell_type": "code",
   "execution_count": 320,
   "metadata": {},
   "outputs": [
    {
     "name": "stdout",
     "output_type": "stream",
     "text": [
      "True\n"
     ]
    }
   ],
   "source": [
    "x = 15\n",
    "y = 15\n",
    "#comparison operators will always give values in true and false i.e. their datatype in boolean\n",
    "#print(x = y) #this is not comparing x with y instead its assigning the value of y to x\n",
    "print(x == y) #this is comparing x with y "
   ]
  }
 ],
 "metadata": {
  "interpreter": {
   "hash": "2c4a0e462d5eb47ccb02ab75c092febb222556232e160fc793b5c239a0fdd870"
  },
  "kernelspec": {
   "display_name": "Python 3.10.0 64-bit",
   "language": "python",
   "name": "python3"
  },
  "language_info": {
   "codemirror_mode": {
    "name": "ipython",
    "version": 3
   },
   "file_extension": ".py",
   "mimetype": "text/x-python",
   "name": "python",
   "nbconvert_exporter": "python",
   "pygments_lexer": "ipython3",
   "version": "3.10.0"
  },
  "orig_nbformat": 4
 },
 "nbformat": 4,
 "nbformat_minor": 2
}
