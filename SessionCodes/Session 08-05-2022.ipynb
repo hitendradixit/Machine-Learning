{
 "cells": [
  {
   "cell_type": "code",
   "execution_count": 4,
   "metadata": {},
   "outputs": [
    {
     "name": "stdout",
     "output_type": "stream",
     "text": [
      "Hello,-how are you?Adam\n"
     ]
    }
   ],
   "source": [
    "#To give output\n",
    "print(\"Hello,\", \"how are you?\",sep=\"-\",end=\"\") #seperator, by default the sep is a space\n",
    "#end will end the line with the charc specified by default it will move the cursor to next line\n",
    "#to keep on same line just give end = ''\n",
    "print(\"Adam\")\n"
   ]
  },
  {
   "cell_type": "markdown",
   "metadata": {},
   "source": [
    "Variables"
   ]
  },
  {
   "cell_type": "code",
   "execution_count": 5,
   "metadata": {},
   "outputs": [
    {
     "name": "stdout",
     "output_type": "stream",
     "text": [
      "I love: Apple\n"
     ]
    }
   ],
   "source": [
    "x = \"Apple\"\n",
    "print(\"I love: \" + x) #will concat the statement inside double quotes with x"
   ]
  },
  {
   "cell_type": "code",
   "execution_count": 7,
   "metadata": {},
   "outputs": [
    {
     "name": "stdout",
     "output_type": "stream",
     "text": [
      "Orange Banana\n"
     ]
    }
   ],
   "source": [
    "x = \"Orange\"\n",
    "y = \"Banana\"\n",
    "z = x + \" \" + y  #concat of x and y\n",
    "print(z)"
   ]
  },
  {
   "cell_type": "markdown",
   "metadata": {},
   "source": [
    "By deafult the input type of variable is string"
   ]
  },
  {
   "cell_type": "code",
   "execution_count": 11,
   "metadata": {},
   "outputs": [
    {
     "name": "stdout",
     "output_type": "stream",
     "text": [
      "1213\n"
     ]
    }
   ],
   "source": [
    "x = input(\"Enter your first Number: \")\n",
    "y = input(\"Enter your second Number: \")\n",
    "z = x + y #this will not give the addition of 2 numbers instead will give the concat of the two values eneterd\n",
    "print(z) #type() is used to check the datatype of the variables"
   ]
  },
  {
   "cell_type": "markdown",
   "metadata": {},
   "source": [
    "Type Conversion"
   ]
  },
  {
   "cell_type": "code",
   "execution_count": 65,
   "metadata": {},
   "outputs": [
    {
     "name": "stdout",
     "output_type": "stream",
     "text": [
      "12\n",
      "<class 'int'>\n"
     ]
    }
   ],
   "source": [
    "x = int(12)\n",
    "print(x)\n",
    "print(type(x))"
   ]
  },
  {
   "cell_type": "code",
   "execution_count": 60,
   "metadata": {},
   "outputs": [
    {
     "name": "stdout",
     "output_type": "stream",
     "text": [
      "25\n"
     ]
    }
   ],
   "source": [
    "x = int(input(\"Enter your first Number: \")) #we have converted it to int type\n",
    "y = int(input(\"Enter your second Number: \"))\n",
    "z = x + y #this will  give the addition of 2 numbers\n",
    "print(z) #type() is used to check the datatype of the variables"
   ]
  },
  {
   "cell_type": "markdown",
   "metadata": {},
   "source": [
    "Defining multiple variables in single line"
   ]
  },
  {
   "cell_type": "code",
   "execution_count": 70,
   "metadata": {},
   "outputs": [
    {
     "name": "stdout",
     "output_type": "stream",
     "text": [
      "Apple Banana Orange\n"
     ]
    }
   ],
   "source": [
    "x, y, z = \"Apple\", \"Banana\", \"Orange\"\n",
    "print(x, y, z)"
   ]
  },
  {
   "cell_type": "markdown",
   "metadata": {},
   "source": [
    "Global and Local Variables"
   ]
  },
  {
   "cell_type": "code",
   "execution_count": 16,
   "metadata": {},
   "outputs": [
    {
     "name": "stdout",
     "output_type": "stream",
     "text": [
      "I love: Apple\n",
      "I love: Kiwi\n",
      "Apple\n"
     ]
    }
   ],
   "source": [
    "x = \"Apple\" #Global Variable GV\n",
    "def myfunc(): #function defination\n",
    "    a = \"Kiwi\" #local variable LV\n",
    "    print(\"I love: \" + x) #take care of indentation\n",
    "    print(\"I love: \" + a)\n",
    "    #to come out of the function hit enter and then backspace\n",
    "myfunc()\n",
    "print(x) #printing a GV\n",
    "#print(a) #printing a LV this will thorw an error cause its not having scope outside the myfunc()\n",
    "\n"
   ]
  },
  {
   "cell_type": "markdown",
   "metadata": {},
   "source": [
    "DataTypes\n",
    "text-type - str\n",
    "numeric - int, float,complex\n",
    "squence - list, tuple, range\n",
    "mapping - dict\n",
    "set types - set,frozenset\n",
    "boolean type - bool\n",
    "binary - bytes, bytearray\n",
    "none - NoneType"
   ]
  },
  {
   "cell_type": "code",
   "execution_count": 55,
   "metadata": {},
   "outputs": [
    {
     "name": "stdout",
     "output_type": "stream",
     "text": [
      "44\n"
     ]
    }
   ],
   "source": [
    "import random\n",
    "print(random.randrange(1,100))"
   ]
  },
  {
   "cell_type": "markdown",
   "metadata": {},
   "source": [
    "Strings - Modification and Formatted Strings"
   ]
  },
  {
   "cell_type": "code",
   "execution_count": 59,
   "metadata": {},
   "outputs": [
    {
     "name": "stdout",
     "output_type": "stream",
     "text": [
      "Hello world\n"
     ]
    }
   ],
   "source": [
    "x = \"Hello World\"\n",
    "print(x.upper()) #will make the whole string in upper case\n"
   ]
  },
  {
   "cell_type": "code",
   "execution_count": 69,
   "metadata": {},
   "outputs": [
    {
     "name": "stdout",
     "output_type": "stream",
     "text": [
      "The sum of 13 and 14 is 27\n"
     ]
    }
   ],
   "source": [
    "x = int(input(\"Enter the first number: \"))\n",
    "y = int(input(\"Enter the second Number: \"))\n",
    "sum = x + y \n",
    "#when you want to print a variable in between a message in one message then we'll use formatted string\n",
    "print(f\"The sum of {x} and {y} is {sum}\") #formatted string\n"
   ]
  },
  {
   "cell_type": "markdown",
   "metadata": {},
   "source": [
    "Unpacking the list"
   ]
  },
  {
   "cell_type": "code",
   "execution_count": 71,
   "metadata": {},
   "outputs": [
    {
     "name": "stdout",
     "output_type": "stream",
     "text": [
      "Apple Banana Orange\n"
     ]
    }
   ],
   "source": [
    "fruit = [\"Apple\", \"Banana\", \"Orange\"]\n",
    "x, y, z = fruit\n",
    "print(x, y, z)"
   ]
  },
  {
   "cell_type": "markdown",
   "metadata": {},
   "source": [
    "Operators"
   ]
  },
  {
   "cell_type": "code",
   "execution_count": 73,
   "metadata": {},
   "outputs": [],
   "source": [
    "x = 15\n",
    "y = 4\n",
    "sum = x + y\n",
    "diff = x - y\n",
    "multiply = x * y\n",
    "division = x / y\n",
    "power = x ** 3 # this is equivalent to x raise to the power 3\n",
    "reaminder = x % y #this will give the remainder when x is divided by y\n",
    "quotient = x//y #this will only give the quotient when x is divide by y"
   ]
  },
  {
   "cell_type": "code",
   "execution_count": 74,
   "metadata": {},
   "outputs": [
    {
     "name": "stdout",
     "output_type": "stream",
     "text": [
      "The sum of 15 and 4 is 19\n",
      "The diff of 15 and 4 is 11\n",
      "The multiply of 15 and 4 is 60\n",
      "The division of 15 and 4 is 3.75\n",
      "The power of 15 to 3 is 3375\n",
      "The reaminder of 15 and 4 is 3\n",
      "The quotient of 15 and 4 is 3\n"
     ]
    }
   ],
   "source": [
    "print(f\"The sum of {x} and {y} is {sum}\")\n",
    "print(f\"The diff of {x} and {y} is {diff}\")\n",
    "print(f\"The multiply of {x} and {y} is {multiply}\")\n",
    "print(f\"The division of {x} and {y} is {division}\")\n",
    "print(f\"The power of {x} to 3 is {power}\")\n",
    "print(f\"The reaminder of {x} and {y} is {reaminder}\")\n",
    "print(f\"The quotient of {x} and {y} is {quotient}\")"
   ]
  },
  {
   "cell_type": "markdown",
   "metadata": {},
   "source": [
    "Assignment Operators"
   ]
  },
  {
   "cell_type": "code",
   "execution_count": 77,
   "metadata": {},
   "outputs": [
    {
     "name": "stdout",
     "output_type": "stream",
     "text": [
      "30\n"
     ]
    }
   ],
   "source": [
    "x = 15\n",
    "#x = x + 15\n",
    "x += 15 #this is the shorthand for x = x + 15, you are adding 15 to x and again storing it back to x\n",
    "print(x)"
   ]
  },
  {
   "cell_type": "code",
   "execution_count": 96,
   "metadata": {},
   "outputs": [
    {
     "name": "stdout",
     "output_type": "stream",
     "text": [
      "10110100\n"
     ]
    }
   ],
   "source": [
    "#to convert decimal to binary\n",
    "def decimalToBinary(n):\n",
    "    return bin(n).replace(\"0b\", \"\")\n",
    "\n",
    "print(decimalToBinary(180))"
   ]
  },
  {
   "cell_type": "markdown",
   "metadata": {},
   "source": [
    "Bitwise Operator"
   ]
  },
  {
   "cell_type": "code",
   "execution_count": 95,
   "metadata": {},
   "outputs": [
    {
     "name": "stdout",
     "output_type": "stream",
     "text": [
      "180\n"
     ]
    }
   ],
   "source": [
    "x = 160 \n",
    "y = 180\n",
    "z = x | y #converts first the value of x and y to binary and then use the OR operator to get the result and converts back the rsult to decimal\n",
    "print(z)"
   ]
  }
 ],
 "metadata": {
  "interpreter": {
   "hash": "2c4a0e462d5eb47ccb02ab75c092febb222556232e160fc793b5c239a0fdd870"
  },
  "kernelspec": {
   "display_name": "Python 3.10.0 64-bit",
   "language": "python",
   "name": "python3"
  },
  "language_info": {
   "codemirror_mode": {
    "name": "ipython",
    "version": 3
   },
   "file_extension": ".py",
   "mimetype": "text/x-python",
   "name": "python",
   "nbconvert_exporter": "python",
   "pygments_lexer": "ipython3",
   "version": "3.10.0"
  },
  "orig_nbformat": 4
 },
 "nbformat": 4,
 "nbformat_minor": 2
}
