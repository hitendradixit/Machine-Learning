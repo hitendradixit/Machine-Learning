{
 "cells": [
  {
   "cell_type": "code",
   "execution_count": null,
   "metadata": {},
   "outputs": [],
   "source": [
    "#save this file as .py\n",
    "import cv2\n",
    "import os\n",
    "\n",
    "def face_recog(test_img):\n",
    "    cascPath = os.path.dirname(cv2.__file__) + \"/data/haarcascade_frontalface_default.xml\"\n",
    "    #grayimg = cv2.cvtColor(test_img, cv2.COLOR_BGR2GRAY)\n",
    "    face_cascade = cv2.CascadeClassifier(cascPath)\n",
    "    face = face_cascade.detectMultiScale(test_img, scaleFactor = 1.40, minNeighbors = 5)"
   ]
  },
  {
   "cell_type": "code",
   "execution_count": 10,
   "metadata": {},
   "outputs": [
    {
     "data": {
      "text/plain": [
       "True"
      ]
     },
     "execution_count": 10,
     "metadata": {},
     "output_type": "execute_result"
    }
   ],
   "source": [
    "import cv2\n",
    "import os\n",
    "import face_detection as fcv\n",
    "test_img = cv2.imread(\"messi.jpg\", 1)\n",
    "face_detect, greyimg =  fcv.face_recog(test_img)\n",
    "\n",
    "for (x, y, w, h) in face_detect:\n",
    "    cv2.rectangle(test_img, (x, y), (x + w, y + h), (255, 0, 255), thickness = 3)\n",
    "\n",
    "resize = cv2.resize(test_img, (500, 500))\n",
    "cv2.imwrite(\"messi_face.jpg\", resize)"
   ]
  }
 ],
 "metadata": {
  "interpreter": {
   "hash": "2c4a0e462d5eb47ccb02ab75c092febb222556232e160fc793b5c239a0fdd870"
  },
  "kernelspec": {
   "display_name": "Python 3.10.0 64-bit",
   "language": "python",
   "name": "python3"
  },
  "language_info": {
   "codemirror_mode": {
    "name": "ipython",
    "version": 3
   },
   "file_extension": ".py",
   "mimetype": "text/x-python",
   "name": "python",
   "nbconvert_exporter": "python",
   "pygments_lexer": "ipython3",
   "version": "3.10.0"
  },
  "orig_nbformat": 4
 },
 "nbformat": 4,
 "nbformat_minor": 2
}
