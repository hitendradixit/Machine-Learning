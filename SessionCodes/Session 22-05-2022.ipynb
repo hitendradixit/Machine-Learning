{
 "cells": [
  {
   "cell_type": "markdown",
   "metadata": {},
   "source": [
    "Dealing with null values"
   ]
  },
  {
   "cell_type": "code",
   "execution_count": 7,
   "metadata": {},
   "outputs": [],
   "source": [
    "import pandas as pd\n",
    "import numpy as np"
   ]
  },
  {
   "cell_type": "code",
   "execution_count": 2,
   "metadata": {},
   "outputs": [
    {
     "name": "stderr",
     "output_type": "stream",
     "text": [
      "c:\\Users\\hiten\\AppData\\Local\\Programs\\Python\\Python310\\lib\\site-packages\\IPython\\core\\interactiveshell.py:3444: DtypeWarning: Columns (9,10) have mixed types.Specify dtype option on import or set low_memory=False.\n",
      "  exec(code_obj, self.user_global_ns, self.user_ns)\n"
     ]
    }
   ],
   "source": [
    "df1 = pd.read_csv(\"E:/Datasets/Sample dataset/FIFA/FIFA.csv\")"
   ]
  },
  {
   "cell_type": "code",
   "execution_count": 5,
   "metadata": {},
   "outputs": [
    {
     "data": {
      "text/html": [
       "<div>\n",
       "<style scoped>\n",
       "    .dataframe tbody tr th:only-of-type {\n",
       "        vertical-align: middle;\n",
       "    }\n",
       "\n",
       "    .dataframe tbody tr th {\n",
       "        vertical-align: top;\n",
       "    }\n",
       "\n",
       "    .dataframe thead th {\n",
       "        text-align: right;\n",
       "    }\n",
       "</style>\n",
       "<table border=\"1\" class=\"dataframe\">\n",
       "  <thead>\n",
       "    <tr style=\"text-align: right;\">\n",
       "      <th></th>\n",
       "      <th>Unnamed: 0</th>\n",
       "      <th>reviewId</th>\n",
       "      <th>userName</th>\n",
       "      <th>userImage</th>\n",
       "      <th>content</th>\n",
       "      <th>score</th>\n",
       "      <th>thumbsUpCount</th>\n",
       "      <th>reviewCreatedVersion</th>\n",
       "      <th>at</th>\n",
       "      <th>replyContent</th>\n",
       "      <th>repliedAt</th>\n",
       "    </tr>\n",
       "  </thead>\n",
       "  <tbody>\n",
       "    <tr>\n",
       "      <th>0</th>\n",
       "      <td>0</td>\n",
       "      <td>gp:AOqpTOHvQGANj8dLwcICiwu4m9UVK6OywzKfyoxANTA...</td>\n",
       "      <td>Aastha Ranjitkar</td>\n",
       "      <td>https://play-lh.googleusercontent.com/a/AATXAJ...</td>\n",
       "      <td>Wow great game</td>\n",
       "      <td>5</td>\n",
       "      <td>0</td>\n",
       "      <td>NaN</td>\n",
       "      <td>2022-03-23 13:40:22</td>\n",
       "      <td>NaN</td>\n",
       "      <td>NaN</td>\n",
       "    </tr>\n",
       "    <tr>\n",
       "      <th>1</th>\n",
       "      <td>1</td>\n",
       "      <td>gp:AOqpTOGuaFqUkSTWbeuCQkDPK7jGlQs10eQpoZ0FY8Z...</td>\n",
       "      <td>Arun Sharma</td>\n",
       "      <td>https://play-lh.googleusercontent.com/a/AATXAJ...</td>\n",
       "      <td>Nice game football</td>\n",
       "      <td>4</td>\n",
       "      <td>0</td>\n",
       "      <td>NaN</td>\n",
       "      <td>2022-03-23 13:40:01</td>\n",
       "      <td>NaN</td>\n",
       "      <td>NaN</td>\n",
       "    </tr>\n",
       "  </tbody>\n",
       "</table>\n",
       "</div>"
      ],
      "text/plain": [
       "   Unnamed: 0                                           reviewId  \\\n",
       "0           0  gp:AOqpTOHvQGANj8dLwcICiwu4m9UVK6OywzKfyoxANTA...   \n",
       "1           1  gp:AOqpTOGuaFqUkSTWbeuCQkDPK7jGlQs10eQpoZ0FY8Z...   \n",
       "\n",
       "           userName                                          userImage  \\\n",
       "0  Aastha Ranjitkar  https://play-lh.googleusercontent.com/a/AATXAJ...   \n",
       "1       Arun Sharma  https://play-lh.googleusercontent.com/a/AATXAJ...   \n",
       "\n",
       "              content  score  thumbsUpCount reviewCreatedVersion  \\\n",
       "0      Wow great game      5              0                  NaN   \n",
       "1  Nice game football      4              0                  NaN   \n",
       "\n",
       "                    at replyContent repliedAt  \n",
       "0  2022-03-23 13:40:22          NaN       NaN  \n",
       "1  2022-03-23 13:40:01          NaN       NaN  "
      ]
     },
     "execution_count": 5,
     "metadata": {},
     "output_type": "execute_result"
    }
   ],
   "source": [
    "df1.head(2)"
   ]
  },
  {
   "cell_type": "code",
   "execution_count": 6,
   "metadata": {},
   "outputs": [
    {
     "data": {
      "text/html": [
       "<div>\n",
       "<style scoped>\n",
       "    .dataframe tbody tr th:only-of-type {\n",
       "        vertical-align: middle;\n",
       "    }\n",
       "\n",
       "    .dataframe tbody tr th {\n",
       "        vertical-align: top;\n",
       "    }\n",
       "\n",
       "    .dataframe thead th {\n",
       "        text-align: right;\n",
       "    }\n",
       "</style>\n",
       "<table border=\"1\" class=\"dataframe\">\n",
       "  <thead>\n",
       "    <tr style=\"text-align: right;\">\n",
       "      <th></th>\n",
       "      <th>Unnamed: 0</th>\n",
       "      <th>reviewId</th>\n",
       "      <th>userName</th>\n",
       "      <th>userImage</th>\n",
       "      <th>content</th>\n",
       "      <th>score</th>\n",
       "      <th>thumbsUpCount</th>\n",
       "      <th>reviewCreatedVersion</th>\n",
       "      <th>at</th>\n",
       "      <th>replyContent</th>\n",
       "      <th>repliedAt</th>\n",
       "    </tr>\n",
       "  </thead>\n",
       "  <tbody>\n",
       "    <tr>\n",
       "      <th>0</th>\n",
       "      <td>0</td>\n",
       "      <td>gp:AOqpTOHvQGANj8dLwcICiwu4m9UVK6OywzKfyoxANTA...</td>\n",
       "      <td>Aastha Ranjitkar</td>\n",
       "      <td>https://play-lh.googleusercontent.com/a/AATXAJ...</td>\n",
       "      <td>Wow great game</td>\n",
       "      <td>5</td>\n",
       "      <td>0</td>\n",
       "      <td>Not Applicable</td>\n",
       "      <td>2022-03-23 13:40:22</td>\n",
       "      <td>Not Applicable</td>\n",
       "      <td>Not Applicable</td>\n",
       "    </tr>\n",
       "    <tr>\n",
       "      <th>1</th>\n",
       "      <td>1</td>\n",
       "      <td>gp:AOqpTOGuaFqUkSTWbeuCQkDPK7jGlQs10eQpoZ0FY8Z...</td>\n",
       "      <td>Arun Sharma</td>\n",
       "      <td>https://play-lh.googleusercontent.com/a/AATXAJ...</td>\n",
       "      <td>Nice game football</td>\n",
       "      <td>4</td>\n",
       "      <td>0</td>\n",
       "      <td>Not Applicable</td>\n",
       "      <td>2022-03-23 13:40:01</td>\n",
       "      <td>Not Applicable</td>\n",
       "      <td>Not Applicable</td>\n",
       "    </tr>\n",
       "    <tr>\n",
       "      <th>2</th>\n",
       "      <td>2</td>\n",
       "      <td>gp:AOqpTOEXWsJbMlsbN38UBsFYSnX4Bk2pjdr8R_05q7X...</td>\n",
       "      <td>Arya Nandha</td>\n",
       "      <td>https://play-lh.googleusercontent.com/a-/AOh14...</td>\n",
       "      <td>Good</td>\n",
       "      <td>5</td>\n",
       "      <td>0</td>\n",
       "      <td>Not Applicable</td>\n",
       "      <td>2022-03-23 13:37:05</td>\n",
       "      <td>Not Applicable</td>\n",
       "      <td>Not Applicable</td>\n",
       "    </tr>\n",
       "    <tr>\n",
       "      <th>3</th>\n",
       "      <td>3</td>\n",
       "      <td>gp:AOqpTOEizNRiviFQi4w81Pqr6DtElAkmxQB6aFUbIWs...</td>\n",
       "      <td>Ramesh Murali</td>\n",
       "      <td>https://play-lh.googleusercontent.com/a-/AOh14...</td>\n",
       "      <td>In hard mode my player will react after 5 seco...</td>\n",
       "      <td>1</td>\n",
       "      <td>0</td>\n",
       "      <td>15.5.04</td>\n",
       "      <td>2022-03-23 13:36:53</td>\n",
       "      <td>Not Applicable</td>\n",
       "      <td>Not Applicable</td>\n",
       "    </tr>\n",
       "    <tr>\n",
       "      <th>4</th>\n",
       "      <td>4</td>\n",
       "      <td>gp:AOqpTOEiwwjzwZ22unnoFdyO5w_skAvnRzSnixtV-a9...</td>\n",
       "      <td>Nandita Biswas</td>\n",
       "      <td>https://play-lh.googleusercontent.com/a-/AOh14...</td>\n",
       "      <td>Bad game had dawon</td>\n",
       "      <td>1</td>\n",
       "      <td>0</td>\n",
       "      <td>Not Applicable</td>\n",
       "      <td>2022-03-23 13:36:44</td>\n",
       "      <td>Not Applicable</td>\n",
       "      <td>Not Applicable</td>\n",
       "    </tr>\n",
       "    <tr>\n",
       "      <th>...</th>\n",
       "      <td>...</td>\n",
       "      <td>...</td>\n",
       "      <td>...</td>\n",
       "      <td>...</td>\n",
       "      <td>...</td>\n",
       "      <td>...</td>\n",
       "      <td>...</td>\n",
       "      <td>...</td>\n",
       "      <td>...</td>\n",
       "      <td>...</td>\n",
       "      <td>...</td>\n",
       "    </tr>\n",
       "    <tr>\n",
       "      <th>734637</th>\n",
       "      <td>734637</td>\n",
       "      <td>gp:AOqpTOGso7vGkwIxiktKVPiatXMcGosQmd011dP9MDW...</td>\n",
       "      <td>Emilien Boisvert</td>\n",
       "      <td>https://play-lh.googleusercontent.com/a-/AOh14...</td>\n",
       "      <td>So addictive :)</td>\n",
       "      <td>5</td>\n",
       "      <td>9</td>\n",
       "      <td>1.0.1</td>\n",
       "      <td>2016-08-31 22:33:37</td>\n",
       "      <td>Not Applicable</td>\n",
       "      <td>Not Applicable</td>\n",
       "    </tr>\n",
       "    <tr>\n",
       "      <th>734638</th>\n",
       "      <td>734638</td>\n",
       "      <td>gp:AOqpTOGZDp5yaCP0FRzTHNIGbUl3YXJ7EGyiRlHWRjc...</td>\n",
       "      <td>Julien Herras</td>\n",
       "      <td>https://play-lh.googleusercontent.com/a/AATXAJ...</td>\n",
       "      <td>It's just a mad game. SO LIT FAM!</td>\n",
       "      <td>5</td>\n",
       "      <td>43</td>\n",
       "      <td>1.0.1</td>\n",
       "      <td>2016-08-31 22:00:36</td>\n",
       "      <td>Not Applicable</td>\n",
       "      <td>Not Applicable</td>\n",
       "    </tr>\n",
       "    <tr>\n",
       "      <th>734639</th>\n",
       "      <td>734639</td>\n",
       "      <td>gp:AOqpTOEXdh1Nh2e1ViZBDGvFTskxg4xr1oNo9WDwcMZ...</td>\n",
       "      <td>Khang Nguyen</td>\n",
       "      <td>https://play-lh.googleusercontent.com/a/AATXAJ...</td>\n",
       "      <td>can not login sever to play</td>\n",
       "      <td>1</td>\n",
       "      <td>0</td>\n",
       "      <td>Not Applicable</td>\n",
       "      <td>2016-08-31 18:43:48</td>\n",
       "      <td>Not Applicable</td>\n",
       "      <td>Not Applicable</td>\n",
       "    </tr>\n",
       "    <tr>\n",
       "      <th>734640</th>\n",
       "      <td>734640</td>\n",
       "      <td>gp:AOqpTOG_U7QVjiK8dktPXevzv1OX0iz63Vf4TNtJGdg...</td>\n",
       "      <td>PUBG Mobile Gameplays</td>\n",
       "      <td>https://play-lh.googleusercontent.com/a-/AOh14...</td>\n",
       "      <td>Bad</td>\n",
       "      <td>1</td>\n",
       "      <td>0</td>\n",
       "      <td>Not Applicable</td>\n",
       "      <td>2016-08-31 17:44:47</td>\n",
       "      <td>Not Applicable</td>\n",
       "      <td>Not Applicable</td>\n",
       "    </tr>\n",
       "    <tr>\n",
       "      <th>734641</th>\n",
       "      <td>734641</td>\n",
       "      <td>gp:AOqpTOFWsHxFdkqt8faXzqrQDDXzb7oY6A-Hxbil_C6...</td>\n",
       "      <td>DomFUT</td>\n",
       "      <td>https://play-lh.googleusercontent.com/a-/AOh14...</td>\n",
       "      <td>😀😀</td>\n",
       "      <td>5</td>\n",
       "      <td>20</td>\n",
       "      <td>1.0.1</td>\n",
       "      <td>2016-08-31 16:28:06</td>\n",
       "      <td>Not Applicable</td>\n",
       "      <td>Not Applicable</td>\n",
       "    </tr>\n",
       "  </tbody>\n",
       "</table>\n",
       "<p>734642 rows × 11 columns</p>\n",
       "</div>"
      ],
      "text/plain": [
       "        Unnamed: 0                                           reviewId  \\\n",
       "0                0  gp:AOqpTOHvQGANj8dLwcICiwu4m9UVK6OywzKfyoxANTA...   \n",
       "1                1  gp:AOqpTOGuaFqUkSTWbeuCQkDPK7jGlQs10eQpoZ0FY8Z...   \n",
       "2                2  gp:AOqpTOEXWsJbMlsbN38UBsFYSnX4Bk2pjdr8R_05q7X...   \n",
       "3                3  gp:AOqpTOEizNRiviFQi4w81Pqr6DtElAkmxQB6aFUbIWs...   \n",
       "4                4  gp:AOqpTOEiwwjzwZ22unnoFdyO5w_skAvnRzSnixtV-a9...   \n",
       "...            ...                                                ...   \n",
       "734637      734637  gp:AOqpTOGso7vGkwIxiktKVPiatXMcGosQmd011dP9MDW...   \n",
       "734638      734638  gp:AOqpTOGZDp5yaCP0FRzTHNIGbUl3YXJ7EGyiRlHWRjc...   \n",
       "734639      734639  gp:AOqpTOEXdh1Nh2e1ViZBDGvFTskxg4xr1oNo9WDwcMZ...   \n",
       "734640      734640  gp:AOqpTOG_U7QVjiK8dktPXevzv1OX0iz63Vf4TNtJGdg...   \n",
       "734641      734641  gp:AOqpTOFWsHxFdkqt8faXzqrQDDXzb7oY6A-Hxbil_C6...   \n",
       "\n",
       "                     userName  \\\n",
       "0            Aastha Ranjitkar   \n",
       "1                 Arun Sharma   \n",
       "2                 Arya Nandha   \n",
       "3               Ramesh Murali   \n",
       "4              Nandita Biswas   \n",
       "...                       ...   \n",
       "734637       Emilien Boisvert   \n",
       "734638          Julien Herras   \n",
       "734639           Khang Nguyen   \n",
       "734640  PUBG Mobile Gameplays   \n",
       "734641                 DomFUT   \n",
       "\n",
       "                                                userImage  \\\n",
       "0       https://play-lh.googleusercontent.com/a/AATXAJ...   \n",
       "1       https://play-lh.googleusercontent.com/a/AATXAJ...   \n",
       "2       https://play-lh.googleusercontent.com/a-/AOh14...   \n",
       "3       https://play-lh.googleusercontent.com/a-/AOh14...   \n",
       "4       https://play-lh.googleusercontent.com/a-/AOh14...   \n",
       "...                                                   ...   \n",
       "734637  https://play-lh.googleusercontent.com/a-/AOh14...   \n",
       "734638  https://play-lh.googleusercontent.com/a/AATXAJ...   \n",
       "734639  https://play-lh.googleusercontent.com/a/AATXAJ...   \n",
       "734640  https://play-lh.googleusercontent.com/a-/AOh14...   \n",
       "734641  https://play-lh.googleusercontent.com/a-/AOh14...   \n",
       "\n",
       "                                                  content  score  \\\n",
       "0                                          Wow great game      5   \n",
       "1                                      Nice game football      4   \n",
       "2                                                    Good      5   \n",
       "3       In hard mode my player will react after 5 seco...      1   \n",
       "4                                      Bad game had dawon      1   \n",
       "...                                                   ...    ...   \n",
       "734637                                    So addictive :)      5   \n",
       "734638                  It's just a mad game. SO LIT FAM!      5   \n",
       "734639                        can not login sever to play      1   \n",
       "734640                                                Bad      1   \n",
       "734641                                                 😀😀      5   \n",
       "\n",
       "        thumbsUpCount reviewCreatedVersion                   at  \\\n",
       "0                   0       Not Applicable  2022-03-23 13:40:22   \n",
       "1                   0       Not Applicable  2022-03-23 13:40:01   \n",
       "2                   0       Not Applicable  2022-03-23 13:37:05   \n",
       "3                   0              15.5.04  2022-03-23 13:36:53   \n",
       "4                   0       Not Applicable  2022-03-23 13:36:44   \n",
       "...               ...                  ...                  ...   \n",
       "734637              9                1.0.1  2016-08-31 22:33:37   \n",
       "734638             43                1.0.1  2016-08-31 22:00:36   \n",
       "734639              0       Not Applicable  2016-08-31 18:43:48   \n",
       "734640              0       Not Applicable  2016-08-31 17:44:47   \n",
       "734641             20                1.0.1  2016-08-31 16:28:06   \n",
       "\n",
       "          replyContent       repliedAt  \n",
       "0       Not Applicable  Not Applicable  \n",
       "1       Not Applicable  Not Applicable  \n",
       "2       Not Applicable  Not Applicable  \n",
       "3       Not Applicable  Not Applicable  \n",
       "4       Not Applicable  Not Applicable  \n",
       "...                ...             ...  \n",
       "734637  Not Applicable  Not Applicable  \n",
       "734638  Not Applicable  Not Applicable  \n",
       "734639  Not Applicable  Not Applicable  \n",
       "734640  Not Applicable  Not Applicable  \n",
       "734641  Not Applicable  Not Applicable  \n",
       "\n",
       "[734642 rows x 11 columns]"
      ]
     },
     "execution_count": 6,
     "metadata": {},
     "output_type": "execute_result"
    }
   ],
   "source": [
    "df1.fillna(\"Not Applicable\")"
   ]
  },
  {
   "cell_type": "code",
   "execution_count": 8,
   "metadata": {},
   "outputs": [
    {
     "data": {
      "text/html": [
       "<div>\n",
       "<style scoped>\n",
       "    .dataframe tbody tr th:only-of-type {\n",
       "        vertical-align: middle;\n",
       "    }\n",
       "\n",
       "    .dataframe tbody tr th {\n",
       "        vertical-align: top;\n",
       "    }\n",
       "\n",
       "    .dataframe thead th {\n",
       "        text-align: right;\n",
       "    }\n",
       "</style>\n",
       "<table border=\"1\" class=\"dataframe\">\n",
       "  <thead>\n",
       "    <tr style=\"text-align: right;\">\n",
       "      <th></th>\n",
       "      <th>Unnamed: 0</th>\n",
       "      <th>reviewId</th>\n",
       "      <th>userName</th>\n",
       "      <th>userImage</th>\n",
       "      <th>content</th>\n",
       "      <th>score</th>\n",
       "      <th>thumbsUpCount</th>\n",
       "      <th>reviewCreatedVersion</th>\n",
       "      <th>at</th>\n",
       "      <th>replyContent</th>\n",
       "      <th>repliedAt</th>\n",
       "    </tr>\n",
       "  </thead>\n",
       "  <tbody>\n",
       "    <tr>\n",
       "      <th>0</th>\n",
       "      <td>0</td>\n",
       "      <td>gp:AOqpTOHvQGANj8dLwcICiwu4m9UVK6OywzKfyoxANTA...</td>\n",
       "      <td>Aastha Ranjitkar</td>\n",
       "      <td>https://play-lh.googleusercontent.com/a/AATXAJ...</td>\n",
       "      <td>Wow great game</td>\n",
       "      <td>5</td>\n",
       "      <td>0</td>\n",
       "      <td>NAP</td>\n",
       "      <td>2022-03-23 13:40:22</td>\n",
       "      <td>NAP</td>\n",
       "      <td>NAP</td>\n",
       "    </tr>\n",
       "    <tr>\n",
       "      <th>1</th>\n",
       "      <td>1</td>\n",
       "      <td>gp:AOqpTOGuaFqUkSTWbeuCQkDPK7jGlQs10eQpoZ0FY8Z...</td>\n",
       "      <td>Arun Sharma</td>\n",
       "      <td>https://play-lh.googleusercontent.com/a/AATXAJ...</td>\n",
       "      <td>Nice game football</td>\n",
       "      <td>4</td>\n",
       "      <td>0</td>\n",
       "      <td>NAP</td>\n",
       "      <td>2022-03-23 13:40:01</td>\n",
       "      <td>NAP</td>\n",
       "      <td>NAP</td>\n",
       "    </tr>\n",
       "    <tr>\n",
       "      <th>2</th>\n",
       "      <td>2</td>\n",
       "      <td>gp:AOqpTOEXWsJbMlsbN38UBsFYSnX4Bk2pjdr8R_05q7X...</td>\n",
       "      <td>Arya Nandha</td>\n",
       "      <td>https://play-lh.googleusercontent.com/a-/AOh14...</td>\n",
       "      <td>Good</td>\n",
       "      <td>5</td>\n",
       "      <td>0</td>\n",
       "      <td>NAP</td>\n",
       "      <td>2022-03-23 13:37:05</td>\n",
       "      <td>NAP</td>\n",
       "      <td>NAP</td>\n",
       "    </tr>\n",
       "    <tr>\n",
       "      <th>3</th>\n",
       "      <td>3</td>\n",
       "      <td>gp:AOqpTOEizNRiviFQi4w81Pqr6DtElAkmxQB6aFUbIWs...</td>\n",
       "      <td>Ramesh Murali</td>\n",
       "      <td>https://play-lh.googleusercontent.com/a-/AOh14...</td>\n",
       "      <td>In hard mode my player will react after 5 seco...</td>\n",
       "      <td>1</td>\n",
       "      <td>0</td>\n",
       "      <td>15.5.04</td>\n",
       "      <td>2022-03-23 13:36:53</td>\n",
       "      <td>NAP</td>\n",
       "      <td>NAP</td>\n",
       "    </tr>\n",
       "    <tr>\n",
       "      <th>4</th>\n",
       "      <td>4</td>\n",
       "      <td>gp:AOqpTOEiwwjzwZ22unnoFdyO5w_skAvnRzSnixtV-a9...</td>\n",
       "      <td>Nandita Biswas</td>\n",
       "      <td>https://play-lh.googleusercontent.com/a-/AOh14...</td>\n",
       "      <td>Bad game had dawon</td>\n",
       "      <td>1</td>\n",
       "      <td>0</td>\n",
       "      <td>NAP</td>\n",
       "      <td>2022-03-23 13:36:44</td>\n",
       "      <td>NAP</td>\n",
       "      <td>NAP</td>\n",
       "    </tr>\n",
       "    <tr>\n",
       "      <th>...</th>\n",
       "      <td>...</td>\n",
       "      <td>...</td>\n",
       "      <td>...</td>\n",
       "      <td>...</td>\n",
       "      <td>...</td>\n",
       "      <td>...</td>\n",
       "      <td>...</td>\n",
       "      <td>...</td>\n",
       "      <td>...</td>\n",
       "      <td>...</td>\n",
       "      <td>...</td>\n",
       "    </tr>\n",
       "    <tr>\n",
       "      <th>734637</th>\n",
       "      <td>734637</td>\n",
       "      <td>gp:AOqpTOGso7vGkwIxiktKVPiatXMcGosQmd011dP9MDW...</td>\n",
       "      <td>Emilien Boisvert</td>\n",
       "      <td>https://play-lh.googleusercontent.com/a-/AOh14...</td>\n",
       "      <td>So addictive :)</td>\n",
       "      <td>5</td>\n",
       "      <td>9</td>\n",
       "      <td>1.0.1</td>\n",
       "      <td>2016-08-31 22:33:37</td>\n",
       "      <td>NAP</td>\n",
       "      <td>NAP</td>\n",
       "    </tr>\n",
       "    <tr>\n",
       "      <th>734638</th>\n",
       "      <td>734638</td>\n",
       "      <td>gp:AOqpTOGZDp5yaCP0FRzTHNIGbUl3YXJ7EGyiRlHWRjc...</td>\n",
       "      <td>Julien Herras</td>\n",
       "      <td>https://play-lh.googleusercontent.com/a/AATXAJ...</td>\n",
       "      <td>It's just a mad game. SO LIT FAM!</td>\n",
       "      <td>5</td>\n",
       "      <td>43</td>\n",
       "      <td>1.0.1</td>\n",
       "      <td>2016-08-31 22:00:36</td>\n",
       "      <td>NAP</td>\n",
       "      <td>NAP</td>\n",
       "    </tr>\n",
       "    <tr>\n",
       "      <th>734639</th>\n",
       "      <td>734639</td>\n",
       "      <td>gp:AOqpTOEXdh1Nh2e1ViZBDGvFTskxg4xr1oNo9WDwcMZ...</td>\n",
       "      <td>Khang Nguyen</td>\n",
       "      <td>https://play-lh.googleusercontent.com/a/AATXAJ...</td>\n",
       "      <td>can not login sever to play</td>\n",
       "      <td>1</td>\n",
       "      <td>0</td>\n",
       "      <td>NAP</td>\n",
       "      <td>2016-08-31 18:43:48</td>\n",
       "      <td>NAP</td>\n",
       "      <td>NAP</td>\n",
       "    </tr>\n",
       "    <tr>\n",
       "      <th>734640</th>\n",
       "      <td>734640</td>\n",
       "      <td>gp:AOqpTOG_U7QVjiK8dktPXevzv1OX0iz63Vf4TNtJGdg...</td>\n",
       "      <td>PUBG Mobile Gameplays</td>\n",
       "      <td>https://play-lh.googleusercontent.com/a-/AOh14...</td>\n",
       "      <td>Bad</td>\n",
       "      <td>1</td>\n",
       "      <td>0</td>\n",
       "      <td>NAP</td>\n",
       "      <td>2016-08-31 17:44:47</td>\n",
       "      <td>NAP</td>\n",
       "      <td>NAP</td>\n",
       "    </tr>\n",
       "    <tr>\n",
       "      <th>734641</th>\n",
       "      <td>734641</td>\n",
       "      <td>gp:AOqpTOFWsHxFdkqt8faXzqrQDDXzb7oY6A-Hxbil_C6...</td>\n",
       "      <td>DomFUT</td>\n",
       "      <td>https://play-lh.googleusercontent.com/a-/AOh14...</td>\n",
       "      <td>😀😀</td>\n",
       "      <td>5</td>\n",
       "      <td>20</td>\n",
       "      <td>1.0.1</td>\n",
       "      <td>2016-08-31 16:28:06</td>\n",
       "      <td>NAP</td>\n",
       "      <td>NAP</td>\n",
       "    </tr>\n",
       "  </tbody>\n",
       "</table>\n",
       "<p>734642 rows × 11 columns</p>\n",
       "</div>"
      ],
      "text/plain": [
       "        Unnamed: 0                                           reviewId  \\\n",
       "0                0  gp:AOqpTOHvQGANj8dLwcICiwu4m9UVK6OywzKfyoxANTA...   \n",
       "1                1  gp:AOqpTOGuaFqUkSTWbeuCQkDPK7jGlQs10eQpoZ0FY8Z...   \n",
       "2                2  gp:AOqpTOEXWsJbMlsbN38UBsFYSnX4Bk2pjdr8R_05q7X...   \n",
       "3                3  gp:AOqpTOEizNRiviFQi4w81Pqr6DtElAkmxQB6aFUbIWs...   \n",
       "4                4  gp:AOqpTOEiwwjzwZ22unnoFdyO5w_skAvnRzSnixtV-a9...   \n",
       "...            ...                                                ...   \n",
       "734637      734637  gp:AOqpTOGso7vGkwIxiktKVPiatXMcGosQmd011dP9MDW...   \n",
       "734638      734638  gp:AOqpTOGZDp5yaCP0FRzTHNIGbUl3YXJ7EGyiRlHWRjc...   \n",
       "734639      734639  gp:AOqpTOEXdh1Nh2e1ViZBDGvFTskxg4xr1oNo9WDwcMZ...   \n",
       "734640      734640  gp:AOqpTOG_U7QVjiK8dktPXevzv1OX0iz63Vf4TNtJGdg...   \n",
       "734641      734641  gp:AOqpTOFWsHxFdkqt8faXzqrQDDXzb7oY6A-Hxbil_C6...   \n",
       "\n",
       "                     userName  \\\n",
       "0            Aastha Ranjitkar   \n",
       "1                 Arun Sharma   \n",
       "2                 Arya Nandha   \n",
       "3               Ramesh Murali   \n",
       "4              Nandita Biswas   \n",
       "...                       ...   \n",
       "734637       Emilien Boisvert   \n",
       "734638          Julien Herras   \n",
       "734639           Khang Nguyen   \n",
       "734640  PUBG Mobile Gameplays   \n",
       "734641                 DomFUT   \n",
       "\n",
       "                                                userImage  \\\n",
       "0       https://play-lh.googleusercontent.com/a/AATXAJ...   \n",
       "1       https://play-lh.googleusercontent.com/a/AATXAJ...   \n",
       "2       https://play-lh.googleusercontent.com/a-/AOh14...   \n",
       "3       https://play-lh.googleusercontent.com/a-/AOh14...   \n",
       "4       https://play-lh.googleusercontent.com/a-/AOh14...   \n",
       "...                                                   ...   \n",
       "734637  https://play-lh.googleusercontent.com/a-/AOh14...   \n",
       "734638  https://play-lh.googleusercontent.com/a/AATXAJ...   \n",
       "734639  https://play-lh.googleusercontent.com/a/AATXAJ...   \n",
       "734640  https://play-lh.googleusercontent.com/a-/AOh14...   \n",
       "734641  https://play-lh.googleusercontent.com/a-/AOh14...   \n",
       "\n",
       "                                                  content  score  \\\n",
       "0                                          Wow great game      5   \n",
       "1                                      Nice game football      4   \n",
       "2                                                    Good      5   \n",
       "3       In hard mode my player will react after 5 seco...      1   \n",
       "4                                      Bad game had dawon      1   \n",
       "...                                                   ...    ...   \n",
       "734637                                    So addictive :)      5   \n",
       "734638                  It's just a mad game. SO LIT FAM!      5   \n",
       "734639                        can not login sever to play      1   \n",
       "734640                                                Bad      1   \n",
       "734641                                                 😀😀      5   \n",
       "\n",
       "        thumbsUpCount reviewCreatedVersion                   at replyContent  \\\n",
       "0                   0                  NAP  2022-03-23 13:40:22          NAP   \n",
       "1                   0                  NAP  2022-03-23 13:40:01          NAP   \n",
       "2                   0                  NAP  2022-03-23 13:37:05          NAP   \n",
       "3                   0              15.5.04  2022-03-23 13:36:53          NAP   \n",
       "4                   0                  NAP  2022-03-23 13:36:44          NAP   \n",
       "...               ...                  ...                  ...          ...   \n",
       "734637              9                1.0.1  2016-08-31 22:33:37          NAP   \n",
       "734638             43                1.0.1  2016-08-31 22:00:36          NAP   \n",
       "734639              0                  NAP  2016-08-31 18:43:48          NAP   \n",
       "734640              0                  NAP  2016-08-31 17:44:47          NAP   \n",
       "734641             20                1.0.1  2016-08-31 16:28:06          NAP   \n",
       "\n",
       "       repliedAt  \n",
       "0            NAP  \n",
       "1            NAP  \n",
       "2            NAP  \n",
       "3            NAP  \n",
       "4            NAP  \n",
       "...          ...  \n",
       "734637       NAP  \n",
       "734638       NAP  \n",
       "734639       NAP  \n",
       "734640       NAP  \n",
       "734641       NAP  \n",
       "\n",
       "[734642 rows x 11 columns]"
      ]
     },
     "execution_count": 8,
     "metadata": {},
     "output_type": "execute_result"
    }
   ],
   "source": [
    "df1.replace({np.nan : \"NAP\"})"
   ]
  },
  {
   "cell_type": "markdown",
   "metadata": {},
   "source": [
    "PIVOT"
   ]
  },
  {
   "cell_type": "code",
   "execution_count": 12,
   "metadata": {},
   "outputs": [
    {
     "data": {
      "text/html": [
       "<div>\n",
       "<style scoped>\n",
       "    .dataframe tbody tr th:only-of-type {\n",
       "        vertical-align: middle;\n",
       "    }\n",
       "\n",
       "    .dataframe tbody tr th {\n",
       "        vertical-align: top;\n",
       "    }\n",
       "\n",
       "    .dataframe thead th {\n",
       "        text-align: right;\n",
       "    }\n",
       "</style>\n",
       "<table border=\"1\" class=\"dataframe\">\n",
       "  <thead>\n",
       "    <tr style=\"text-align: right;\">\n",
       "      <th></th>\n",
       "      <th>name</th>\n",
       "      <th>Profession</th>\n",
       "      <th>Salary</th>\n",
       "      <th>age</th>\n",
       "    </tr>\n",
       "  </thead>\n",
       "  <tbody>\n",
       "    <tr>\n",
       "      <th>0</th>\n",
       "      <td>Rahul</td>\n",
       "      <td>Manager</td>\n",
       "      <td>100000</td>\n",
       "      <td>30</td>\n",
       "    </tr>\n",
       "    <tr>\n",
       "      <th>1</th>\n",
       "      <td>Kartik</td>\n",
       "      <td>Tech Lead</td>\n",
       "      <td>80000</td>\n",
       "      <td>28</td>\n",
       "    </tr>\n",
       "    <tr>\n",
       "      <th>2</th>\n",
       "      <td>Aman</td>\n",
       "      <td>Developer</td>\n",
       "      <td>70000</td>\n",
       "      <td>24</td>\n",
       "    </tr>\n",
       "    <tr>\n",
       "      <th>3</th>\n",
       "      <td>Dev</td>\n",
       "      <td>Tester</td>\n",
       "      <td>50000</td>\n",
       "      <td>21</td>\n",
       "    </tr>\n",
       "  </tbody>\n",
       "</table>\n",
       "</div>"
      ],
      "text/plain": [
       "     name Profession  Salary  age\n",
       "0   Rahul    Manager  100000   30\n",
       "1  Kartik  Tech Lead   80000   28\n",
       "2    Aman  Developer   70000   24\n",
       "3     Dev     Tester   50000   21"
      ]
     },
     "execution_count": 12,
     "metadata": {},
     "output_type": "execute_result"
    }
   ],
   "source": [
    "table = {\n",
    "    'name': ['Rahul', 'Kartik', 'Aman', 'Dev'],\n",
    "    'age' : [30, 28, 24, 21],\n",
    "    'Profession' : ['Manager', 'Tech Lead', 'Developer', 'Tester'],\n",
    "    'Salary' : [100000, 80000, 70000, 50000]\n",
    "}\n",
    "df = pd.DataFrame(table, columns = ['name', 'Profession', 'Salary', 'age'])\n",
    "df"
   ]
  },
  {
   "cell_type": "code",
   "execution_count": 17,
   "metadata": {},
   "outputs": [],
   "source": [
    "df2 = df.pivot(index = 'name', columns = 'Profession')"
   ]
  },
  {
   "cell_type": "code",
   "execution_count": 18,
   "metadata": {},
   "outputs": [
    {
     "data": {
      "text/plain": [
       "        Profession\n",
       "Salary  Developer     float64\n",
       "        Manager       float64\n",
       "        Tech Lead     float64\n",
       "        Tester        float64\n",
       "age     Developer     float64\n",
       "        Manager       float64\n",
       "        Tech Lead     float64\n",
       "        Tester        float64\n",
       "dtype: object"
      ]
     },
     "execution_count": 18,
     "metadata": {},
     "output_type": "execute_result"
    }
   ],
   "source": [
    "df2.dtypes"
   ]
  },
  {
   "cell_type": "code",
   "execution_count": 16,
   "metadata": {},
   "outputs": [
    {
     "data": {
      "text/html": [
       "<div>\n",
       "<style scoped>\n",
       "    .dataframe tbody tr th:only-of-type {\n",
       "        vertical-align: middle;\n",
       "    }\n",
       "\n",
       "    .dataframe tbody tr th {\n",
       "        vertical-align: top;\n",
       "    }\n",
       "\n",
       "    .dataframe thead tr th {\n",
       "        text-align: left;\n",
       "    }\n",
       "\n",
       "    .dataframe thead tr:last-of-type th {\n",
       "        text-align: right;\n",
       "    }\n",
       "</style>\n",
       "<table border=\"1\" class=\"dataframe\">\n",
       "  <thead>\n",
       "    <tr>\n",
       "      <th></th>\n",
       "      <th colspan=\"4\" halign=\"left\">Salary</th>\n",
       "      <th colspan=\"4\" halign=\"left\">age</th>\n",
       "    </tr>\n",
       "    <tr>\n",
       "      <th>Profession</th>\n",
       "      <th>Developer</th>\n",
       "      <th>Manager</th>\n",
       "      <th>Tech Lead</th>\n",
       "      <th>Tester</th>\n",
       "      <th>Developer</th>\n",
       "      <th>Manager</th>\n",
       "      <th>Tech Lead</th>\n",
       "      <th>Tester</th>\n",
       "    </tr>\n",
       "    <tr>\n",
       "      <th>name</th>\n",
       "      <th></th>\n",
       "      <th></th>\n",
       "      <th></th>\n",
       "      <th></th>\n",
       "      <th></th>\n",
       "      <th></th>\n",
       "      <th></th>\n",
       "      <th></th>\n",
       "    </tr>\n",
       "  </thead>\n",
       "  <tbody>\n",
       "    <tr>\n",
       "      <th>Aman</th>\n",
       "      <td>70000.0</td>\n",
       "      <td>0.0</td>\n",
       "      <td>0.0</td>\n",
       "      <td>0.0</td>\n",
       "      <td>24.0</td>\n",
       "      <td>0.0</td>\n",
       "      <td>0.0</td>\n",
       "      <td>0.0</td>\n",
       "    </tr>\n",
       "    <tr>\n",
       "      <th>Dev</th>\n",
       "      <td>0.0</td>\n",
       "      <td>0.0</td>\n",
       "      <td>0.0</td>\n",
       "      <td>50000.0</td>\n",
       "      <td>0.0</td>\n",
       "      <td>0.0</td>\n",
       "      <td>0.0</td>\n",
       "      <td>21.0</td>\n",
       "    </tr>\n",
       "    <tr>\n",
       "      <th>Kartik</th>\n",
       "      <td>0.0</td>\n",
       "      <td>0.0</td>\n",
       "      <td>80000.0</td>\n",
       "      <td>0.0</td>\n",
       "      <td>0.0</td>\n",
       "      <td>0.0</td>\n",
       "      <td>28.0</td>\n",
       "      <td>0.0</td>\n",
       "    </tr>\n",
       "    <tr>\n",
       "      <th>Rahul</th>\n",
       "      <td>0.0</td>\n",
       "      <td>100000.0</td>\n",
       "      <td>0.0</td>\n",
       "      <td>0.0</td>\n",
       "      <td>0.0</td>\n",
       "      <td>30.0</td>\n",
       "      <td>0.0</td>\n",
       "      <td>0.0</td>\n",
       "    </tr>\n",
       "  </tbody>\n",
       "</table>\n",
       "</div>"
      ],
      "text/plain": [
       "              Salary                                    age                    \\\n",
       "Profession Developer   Manager Tech Lead   Tester Developer Manager Tech Lead   \n",
       "name                                                                            \n",
       "Aman         70000.0       0.0       0.0      0.0      24.0     0.0       0.0   \n",
       "Dev              0.0       0.0       0.0  50000.0       0.0     0.0       0.0   \n",
       "Kartik           0.0       0.0   80000.0      0.0       0.0     0.0      28.0   \n",
       "Rahul            0.0  100000.0       0.0      0.0       0.0    30.0       0.0   \n",
       "\n",
       "                   \n",
       "Profession Tester  \n",
       "name               \n",
       "Aman          0.0  \n",
       "Dev          21.0  \n",
       "Kartik        0.0  \n",
       "Rahul         0.0  "
      ]
     },
     "execution_count": 16,
     "metadata": {},
     "output_type": "execute_result"
    }
   ],
   "source": [
    "df2.replace({np.nan:0})"
   ]
  },
  {
   "cell_type": "markdown",
   "metadata": {},
   "source": [
    "CHARTS"
   ]
  },
  {
   "cell_type": "code",
   "execution_count": 19,
   "metadata": {},
   "outputs": [],
   "source": [
    "df = pd.read_excel(\"E:/New folder/Machine Learning/Datasets/SuperStoreUS2015.xlsx\")"
   ]
  },
  {
   "cell_type": "code",
   "execution_count": 20,
   "metadata": {},
   "outputs": [
    {
     "data": {
      "text/plain": [
       "Row ID                           int64\n",
       "Order Priority                  object\n",
       "Discount                       float64\n",
       "Unit Price                     float64\n",
       "Shipping Cost                  float64\n",
       "Customer ID                      int64\n",
       "Customer Name                   object\n",
       "Ship Mode                       object\n",
       "Customer Segment                object\n",
       "Product Category                object\n",
       "Product Sub-Category            object\n",
       "Product Container               object\n",
       "Product Name                    object\n",
       "Product Base Margin            float64\n",
       "Country                         object\n",
       "Region                          object\n",
       "State or Province               object\n",
       "City                            object\n",
       "Postal Code                      int64\n",
       "Order Date              datetime64[ns]\n",
       "Ship Date               datetime64[ns]\n",
       "Profit                         float64\n",
       "Quantity ordered new             int64\n",
       "Sales                          float64\n",
       "Order ID                         int64\n",
       "dtype: object"
      ]
     },
     "execution_count": 20,
     "metadata": {},
     "output_type": "execute_result"
    }
   ],
   "source": [
    "df.dtypes"
   ]
  },
  {
   "cell_type": "code",
   "execution_count": 21,
   "metadata": {},
   "outputs": [],
   "source": [
    "from matplotlib import pyplot as plt"
   ]
  },
  {
   "cell_type": "code",
   "execution_count": 22,
   "metadata": {},
   "outputs": [
    {
     "data": {
      "text/html": [
       "<div>\n",
       "<style scoped>\n",
       "    .dataframe tbody tr th:only-of-type {\n",
       "        vertical-align: middle;\n",
       "    }\n",
       "\n",
       "    .dataframe tbody tr th {\n",
       "        vertical-align: top;\n",
       "    }\n",
       "\n",
       "    .dataframe thead th {\n",
       "        text-align: right;\n",
       "    }\n",
       "</style>\n",
       "<table border=\"1\" class=\"dataframe\">\n",
       "  <thead>\n",
       "    <tr style=\"text-align: right;\">\n",
       "      <th></th>\n",
       "      <th>Row ID</th>\n",
       "      <th>Order Priority</th>\n",
       "      <th>Discount</th>\n",
       "      <th>Unit Price</th>\n",
       "      <th>Shipping Cost</th>\n",
       "      <th>Customer ID</th>\n",
       "      <th>Customer Name</th>\n",
       "      <th>Ship Mode</th>\n",
       "      <th>Customer Segment</th>\n",
       "      <th>Product Category</th>\n",
       "      <th>...</th>\n",
       "      <th>Region</th>\n",
       "      <th>State or Province</th>\n",
       "      <th>City</th>\n",
       "      <th>Postal Code</th>\n",
       "      <th>Order Date</th>\n",
       "      <th>Ship Date</th>\n",
       "      <th>Profit</th>\n",
       "      <th>Quantity ordered new</th>\n",
       "      <th>Sales</th>\n",
       "      <th>Order ID</th>\n",
       "    </tr>\n",
       "  </thead>\n",
       "  <tbody>\n",
       "    <tr>\n",
       "      <th>0</th>\n",
       "      <td>20847</td>\n",
       "      <td>High</td>\n",
       "      <td>0.01</td>\n",
       "      <td>2.84</td>\n",
       "      <td>0.93</td>\n",
       "      <td>3</td>\n",
       "      <td>Bonnie Potter</td>\n",
       "      <td>Express Air</td>\n",
       "      <td>Corporate</td>\n",
       "      <td>Office Supplies</td>\n",
       "      <td>...</td>\n",
       "      <td>West</td>\n",
       "      <td>Washington</td>\n",
       "      <td>Anacortes</td>\n",
       "      <td>98221</td>\n",
       "      <td>2015-01-07</td>\n",
       "      <td>2015-01-08</td>\n",
       "      <td>4.5600</td>\n",
       "      <td>4</td>\n",
       "      <td>13.01</td>\n",
       "      <td>88522</td>\n",
       "    </tr>\n",
       "    <tr>\n",
       "      <th>1</th>\n",
       "      <td>20228</td>\n",
       "      <td>Not Specified</td>\n",
       "      <td>0.02</td>\n",
       "      <td>500.98</td>\n",
       "      <td>26.00</td>\n",
       "      <td>5</td>\n",
       "      <td>Ronnie Proctor</td>\n",
       "      <td>Delivery Truck</td>\n",
       "      <td>Home Office</td>\n",
       "      <td>Furniture</td>\n",
       "      <td>...</td>\n",
       "      <td>West</td>\n",
       "      <td>California</td>\n",
       "      <td>San Gabriel</td>\n",
       "      <td>91776</td>\n",
       "      <td>2015-06-13</td>\n",
       "      <td>2015-06-15</td>\n",
       "      <td>4390.3665</td>\n",
       "      <td>12</td>\n",
       "      <td>6362.85</td>\n",
       "      <td>90193</td>\n",
       "    </tr>\n",
       "  </tbody>\n",
       "</table>\n",
       "<p>2 rows × 25 columns</p>\n",
       "</div>"
      ],
      "text/plain": [
       "   Row ID Order Priority  Discount  Unit Price  Shipping Cost  Customer ID  \\\n",
       "0   20847           High      0.01        2.84           0.93            3   \n",
       "1   20228  Not Specified      0.02      500.98          26.00            5   \n",
       "\n",
       "    Customer Name       Ship Mode Customer Segment Product Category  ...  \\\n",
       "0   Bonnie Potter     Express Air        Corporate  Office Supplies  ...   \n",
       "1  Ronnie Proctor  Delivery Truck      Home Office        Furniture  ...   \n",
       "\n",
       "  Region State or Province         City  Postal Code Order Date  Ship Date  \\\n",
       "0   West        Washington    Anacortes        98221 2015-01-07 2015-01-08   \n",
       "1   West        California  San Gabriel        91776 2015-06-13 2015-06-15   \n",
       "\n",
       "      Profit Quantity ordered new    Sales Order ID  \n",
       "0     4.5600                    4    13.01    88522  \n",
       "1  4390.3665                   12  6362.85    90193  \n",
       "\n",
       "[2 rows x 25 columns]"
      ]
     },
     "execution_count": 22,
     "metadata": {},
     "output_type": "execute_result"
    }
   ],
   "source": [
    "df.head(2)"
   ]
  },
  {
   "cell_type": "code",
   "execution_count": 23,
   "metadata": {},
   "outputs": [],
   "source": [
    "sales_by_product_category = df.groupby('Product Category')[['Sales']].sum()"
   ]
  },
  {
   "cell_type": "code",
   "execution_count": 24,
   "metadata": {},
   "outputs": [
    {
     "data": {
      "text/html": [
       "<div>\n",
       "<style scoped>\n",
       "    .dataframe tbody tr th:only-of-type {\n",
       "        vertical-align: middle;\n",
       "    }\n",
       "\n",
       "    .dataframe tbody tr th {\n",
       "        vertical-align: top;\n",
       "    }\n",
       "\n",
       "    .dataframe thead th {\n",
       "        text-align: right;\n",
       "    }\n",
       "</style>\n",
       "<table border=\"1\" class=\"dataframe\">\n",
       "  <thead>\n",
       "    <tr style=\"text-align: right;\">\n",
       "      <th></th>\n",
       "      <th>Sales</th>\n",
       "    </tr>\n",
       "    <tr>\n",
       "      <th>Product Category</th>\n",
       "      <th></th>\n",
       "    </tr>\n",
       "  </thead>\n",
       "  <tbody>\n",
       "    <tr>\n",
       "      <th>Furniture</th>\n",
       "      <td>660704.31</td>\n",
       "    </tr>\n",
       "    <tr>\n",
       "      <th>Office Supplies</th>\n",
       "      <td>551368.62</td>\n",
       "    </tr>\n",
       "    <tr>\n",
       "      <th>Technology</th>\n",
       "      <td>712264.95</td>\n",
       "    </tr>\n",
       "  </tbody>\n",
       "</table>\n",
       "</div>"
      ],
      "text/plain": [
       "                      Sales\n",
       "Product Category           \n",
       "Furniture         660704.31\n",
       "Office Supplies   551368.62\n",
       "Technology        712264.95"
      ]
     },
     "execution_count": 24,
     "metadata": {},
     "output_type": "execute_result"
    }
   ],
   "source": [
    "sales_by_product_category"
   ]
  },
  {
   "cell_type": "code",
   "execution_count": 27,
   "metadata": {},
   "outputs": [
    {
     "data": {
      "text/plain": [
       "<BarContainer object of 3 artists>"
      ]
     },
     "execution_count": 27,
     "metadata": {},
     "output_type": "execute_result"
    },
    {
     "data": {
      "image/png": "[encoded data removed]",
      "text/plain": [
       "<Figure size 432x288 with 1 Axes>"
      ]
     },
     "metadata": {
      "needs_background": "light"
     },
     "output_type": "display_data"
    }
   ],
   "source": [
    "#ax = plt.subplot()\n",
    "plt.bar(sales_by_product_category.index, sales_by_product_category['Sales'])"
   ]
  },
  {
   "cell_type": "markdown",
   "metadata": {},
   "source": [
    "Modification of x axis and y axis"
   ]
  },
  {
   "cell_type": "code",
   "execution_count": 30,
   "metadata": {},
   "outputs": [
    {
     "data": {
      "image/png": "[encoded data removed]",
      "text/plain": [
       "<Figure size 432x288 with 1 Axes>"
      ]
     },
     "metadata": {
      "needs_background": "light"
     },
     "output_type": "display_data"
    }
   ],
   "source": [
    "#ax = plt.subplot()\n",
    "plt.bar(sales_by_product_category.index, sales_by_product_category['Sales'])\n",
    "plt.title(\"Sales by Category\")\n",
    "plt.xlabel(\"Category\")\n",
    "plt.ylabel(\"Total Sales\")\n",
    "plt.show()"
   ]
  },
  {
   "cell_type": "markdown",
   "metadata": {},
   "source": [
    "Adding grid lines"
   ]
  },
  {
   "cell_type": "code",
   "execution_count": 41,
   "metadata": {},
   "outputs": [
    {
     "data": {
      "image/png": "[encoded data removed]",
      "text/plain": [
       "<Figure size 432x288 with 1 Axes>"
      ]
     },
     "metadata": {
      "needs_background": "light"
     },
     "output_type": "display_data"
    }
   ],
   "source": [
    "#ax = plt.subplot()\n",
    "plt.bar(sales_by_product_category.index, sales_by_product_category['Sales'])\n",
    "plt.title(\"Sales by Category\")\n",
    "plt.xlabel(\"Category\")\n",
    "plt.ylabel(\"Total Sales\")\n",
    "plt.grid(color = 'red', alpha = 0.5, linestyle = ':', linewidth = 1) #aplha is used for transparency here (0-> lowest and 1-> is highest)\n",
    "plt.show()"
   ]
  },
  {
   "cell_type": "markdown",
   "metadata": {},
   "source": [
    "Limit the values of y axis"
   ]
  },
  {
   "cell_type": "code",
   "execution_count": 43,
   "metadata": {},
   "outputs": [
    {
     "data": {
      "image/png": "[encoded data removed]",
      "text/plain": [
       "<Figure size 432x288 with 1 Axes>"
      ]
     },
     "metadata": {
      "needs_background": "light"
     },
     "output_type": "display_data"
    }
   ],
   "source": [
    "#ax = plt.subplot()\n",
    "plt.bar(sales_by_product_category.index, sales_by_product_category['Sales'])\n",
    "plt.title(\"Sales by Category\")\n",
    "plt.xlabel(\"Category\")\n",
    "plt.ylabel(\"Total Sales\")\n",
    "plt.grid(color = 'red', alpha = 0.5, linestyle = ':', linewidth = 1) #aplha is used for transparency here (0-> lowest and 1-> is highest)\n",
    "plt.ylim(500000, 800000)\n",
    "plt.show()"
   ]
  },
  {
   "cell_type": "markdown",
   "metadata": {},
   "source": [
    "Creating a horizontal bar chart"
   ]
  },
  {
   "cell_type": "code",
   "execution_count": 46,
   "metadata": {},
   "outputs": [
    {
     "data": {
      "image/png": "[encoded data removed]",
      "text/plain": [
       "<Figure size 432x288 with 1 Axes>"
      ]
     },
     "metadata": {
      "needs_background": "light"
     },
     "output_type": "display_data"
    }
   ],
   "source": [
    "#ax = plt.subplot()\n",
    "plt.barh(sales_by_product_category.index, sales_by_product_category['Sales'])\n",
    "plt.title(\"Sales by Category\")\n",
    "plt.ylabel(\"Category\")\n",
    "plt.xlabel(\"Total Sales\")\n",
    "plt.grid(color = 'red', alpha = 0.5, linestyle = ':', linewidth = 1) #aplha is used for transparency here (0-> lowest and 1-> is highest)\n",
    "plt.xlim(500000, 800000)\n",
    "plt.show()"
   ]
  },
  {
   "cell_type": "markdown",
   "metadata": {},
   "source": [
    "Changing colors of bar chart"
   ]
  },
  {
   "cell_type": "code",
   "execution_count": 49,
   "metadata": {},
   "outputs": [
    {
     "data": {
      "image/png": "[encoded data removed]",
      "text/plain": [
       "<Figure size 432x288 with 1 Axes>"
      ]
     },
     "metadata": {
      "needs_background": "light"
     },
     "output_type": "display_data"
    }
   ],
   "source": [
    "#ax = plt.subplot()\n",
    "colors = ['red', 'purple', 'yellow']\n",
    "plt.bar(sales_by_product_category.index, sales_by_product_category['Sales'],\n",
    "            color = colors, edgecolor = 'black'\n",
    "            )\n",
    "\n",
    "\n",
    "plt.title(\"Sales by Category\")\n",
    "plt.xlabel(\"Category\")\n",
    "plt.ylabel(\"Total Sales\")\n",
    "plt.grid(color = 'red', alpha = 0.5, linestyle = ':', linewidth = 1) #aplha is used for transparency here (0-> lowest and 1-> is highest)\n",
    "plt.ylim(500000, 800000)\n",
    "plt.show()"
   ]
  },
  {
   "cell_type": "markdown",
   "metadata": {},
   "source": [
    "Formatting the x-axis and y-axis values"
   ]
  },
  {
   "cell_type": "code",
   "execution_count": 62,
   "metadata": {},
   "outputs": [
    {
     "data": {
      "image/png": "[encoded data removed]",
      "text/plain": [
       "<Figure size 432x288 with 1 Axes>"
      ]
     },
     "metadata": {
      "needs_background": "light"
     },
     "output_type": "display_data"
    }
   ],
   "source": [
    "#ax = plt.subplot()\n",
    "colors = ['red', 'purple', 'yellow']\n",
    "plt.bar(sales_by_product_category.index, sales_by_product_category['Sales'],\n",
    "            color = colors, edgecolor = 'black'\n",
    "            )\n",
    "\n",
    "\n",
    "plt.title(\"Sales by Category\", weight= 'bold', color = 'Orange')\n",
    "plt.xlabel(\"Category\", color ='green')\n",
    "plt.ylabel(\"Total Sales\", color ='green')\n",
    "plt.grid(color = 'red', alpha = 0.5, linestyle = ':', linewidth = 1) #aplha is used for transparency here (0-> lowest and 1-> is highest)\n",
    "plt.ylim(500000, 800000)\n",
    "plt.xticks(color = 'purple', rotation = 35, )\n",
    "plt.yticks(color = 'purple')\n",
    "plt.show()"
   ]
  },
  {
   "cell_type": "markdown",
   "metadata": {},
   "source": [
    "Changing the style of Bar Chart"
   ]
  },
  {
   "cell_type": "code",
   "execution_count": 63,
   "metadata": {},
   "outputs": [
    {
     "data": {
      "text/plain": [
       "['Solarize_Light2',\n",
       " '_classic_test_patch',\n",
       " '_mpl-gallery',\n",
       " '_mpl-gallery-nogrid',\n",
       " 'bmh',\n",
       " 'classic',\n",
       " 'dark_background',\n",
       " 'fast',\n",
       " 'fivethirtyeight',\n",
       " 'ggplot',\n",
       " 'grayscale',\n",
       " 'seaborn',\n",
       " 'seaborn-bright',\n",
       " 'seaborn-colorblind',\n",
       " 'seaborn-dark',\n",
       " 'seaborn-dark-palette',\n",
       " 'seaborn-darkgrid',\n",
       " 'seaborn-deep',\n",
       " 'seaborn-muted',\n",
       " 'seaborn-notebook',\n",
       " 'seaborn-paper',\n",
       " 'seaborn-pastel',\n",
       " 'seaborn-poster',\n",
       " 'seaborn-talk',\n",
       " 'seaborn-ticks',\n",
       " 'seaborn-white',\n",
       " 'seaborn-whitegrid',\n",
       " 'tableau-colorblind10']"
      ]
     },
     "execution_count": 63,
     "metadata": {},
     "output_type": "execute_result"
    }
   ],
   "source": [
    "plt.style.available"
   ]
  },
  {
   "cell_type": "code",
   "execution_count": 66,
   "metadata": {},
   "outputs": [],
   "source": [
    "plt.style.use('tableau-colorblind10')"
   ]
  },
  {
   "cell_type": "markdown",
   "metadata": {},
   "source": [
    "Seaborn"
   ]
  },
  {
   "cell_type": "code",
   "execution_count": 70,
   "metadata": {},
   "outputs": [],
   "source": [
    "import seaborn as sns"
   ]
  },
  {
   "cell_type": "code",
   "execution_count": 71,
   "metadata": {},
   "outputs": [],
   "source": [
    "sales_data = df.groupby('Product Category')[['Sales', 'Profit']].sum()"
   ]
  },
  {
   "cell_type": "code",
   "execution_count": 72,
   "metadata": {},
   "outputs": [
    {
     "data": {
      "text/html": [
       "<div>\n",
       "<style scoped>\n",
       "    .dataframe tbody tr th:only-of-type {\n",
       "        vertical-align: middle;\n",
       "    }\n",
       "\n",
       "    .dataframe tbody tr th {\n",
       "        vertical-align: top;\n",
       "    }\n",
       "\n",
       "    .dataframe thead th {\n",
       "        text-align: right;\n",
       "    }\n",
       "</style>\n",
       "<table border=\"1\" class=\"dataframe\">\n",
       "  <thead>\n",
       "    <tr style=\"text-align: right;\">\n",
       "      <th></th>\n",
       "      <th>Sales</th>\n",
       "      <th>Profit</th>\n",
       "    </tr>\n",
       "    <tr>\n",
       "      <th>Product Category</th>\n",
       "      <th></th>\n",
       "      <th></th>\n",
       "    </tr>\n",
       "  </thead>\n",
       "  <tbody>\n",
       "    <tr>\n",
       "      <th>Furniture</th>\n",
       "      <td>660704.31</td>\n",
       "      <td>59249.445936</td>\n",
       "    </tr>\n",
       "    <tr>\n",
       "      <th>Office Supplies</th>\n",
       "      <td>551368.62</td>\n",
       "      <td>89525.009537</td>\n",
       "    </tr>\n",
       "    <tr>\n",
       "      <th>Technology</th>\n",
       "      <td>712264.95</td>\n",
       "      <td>75303.156364</td>\n",
       "    </tr>\n",
       "  </tbody>\n",
       "</table>\n",
       "</div>"
      ],
      "text/plain": [
       "                      Sales        Profit\n",
       "Product Category                         \n",
       "Furniture         660704.31  59249.445936\n",
       "Office Supplies   551368.62  89525.009537\n",
       "Technology        712264.95  75303.156364"
      ]
     },
     "execution_count": 72,
     "metadata": {},
     "output_type": "execute_result"
    }
   ],
   "source": [
    "sales_data"
   ]
  },
  {
   "cell_type": "markdown",
   "metadata": {},
   "source": [
    "Change the texture of chart"
   ]
  },
  {
   "cell_type": "code",
   "execution_count": 85,
   "metadata": {},
   "outputs": [
    {
     "data": {
      "text/plain": [
       "<BarContainer object of 3 artists>"
      ]
     },
     "execution_count": 85,
     "metadata": {},
     "output_type": "execute_result"
    },
    {
     "data": {
      "image/png": "[encoded data removed]",
      "text/plain": [
       "<Figure size 432x288 with 1 Axes>"
      ]
     },
     "metadata": {},
     "output_type": "display_data"
    }
   ],
   "source": [
    "colors = ['red', 'purple', 'yellow']\n",
    "plt.bar(sales_data.index, sales_data['Sales'],\n",
    "            color = colors, edgecolor = 'black', hatch = ('\\\\')\n",
    "            )"
   ]
  },
  {
   "cell_type": "markdown",
   "metadata": {},
   "source": [
    "Plotting multiple charts"
   ]
  },
  {
   "cell_type": "code",
   "execution_count": 86,
   "metadata": {},
   "outputs": [
    {
     "data": {
      "text/html": [
       "<div>\n",
       "<style scoped>\n",
       "    .dataframe tbody tr th:only-of-type {\n",
       "        vertical-align: middle;\n",
       "    }\n",
       "\n",
       "    .dataframe tbody tr th {\n",
       "        vertical-align: top;\n",
       "    }\n",
       "\n",
       "    .dataframe thead th {\n",
       "        text-align: right;\n",
       "    }\n",
       "</style>\n",
       "<table border=\"1\" class=\"dataframe\">\n",
       "  <thead>\n",
       "    <tr style=\"text-align: right;\">\n",
       "      <th></th>\n",
       "      <th>Sales</th>\n",
       "      <th>Profit</th>\n",
       "    </tr>\n",
       "    <tr>\n",
       "      <th>Product Category</th>\n",
       "      <th></th>\n",
       "      <th></th>\n",
       "    </tr>\n",
       "  </thead>\n",
       "  <tbody>\n",
       "    <tr>\n",
       "      <th>Furniture</th>\n",
       "      <td>660704.31</td>\n",
       "      <td>59249.445936</td>\n",
       "    </tr>\n",
       "    <tr>\n",
       "      <th>Office Supplies</th>\n",
       "      <td>551368.62</td>\n",
       "      <td>89525.009537</td>\n",
       "    </tr>\n",
       "    <tr>\n",
       "      <th>Technology</th>\n",
       "      <td>712264.95</td>\n",
       "      <td>75303.156364</td>\n",
       "    </tr>\n",
       "  </tbody>\n",
       "</table>\n",
       "</div>"
      ],
      "text/plain": [
       "                      Sales        Profit\n",
       "Product Category                         \n",
       "Furniture         660704.31  59249.445936\n",
       "Office Supplies   551368.62  89525.009537\n",
       "Technology        712264.95  75303.156364"
      ]
     },
     "execution_count": 86,
     "metadata": {},
     "output_type": "execute_result"
    }
   ],
   "source": [
    "sales_data"
   ]
  },
  {
   "cell_type": "code",
   "execution_count": 95,
   "metadata": {},
   "outputs": [
    {
     "data": {
      "text/plain": [
       "<matplotlib.legend.Legend at 0x1d89a2adff0>"
      ]
     },
     "execution_count": 95,
     "metadata": {},
     "output_type": "execute_result"
    },
    {
     "data": {
      "image/png": "[encoded data removed]",
      "text/plain": [
       "<Figure size 432x288 with 2 Axes>"
      ]
     },
     "metadata": {},
     "output_type": "display_data"
    }
   ],
   "source": [
    "plt.subplot(2, 1 ,1)\n",
    "plt.bar(sales_data.index, sales_data['Sales'], color = 'red',label = 'Sales')\n",
    "plt.legend()\n",
    "plt.subplot(2,1,2)\n",
    "plt.bar(sales_data.index, sales_data['Profit'], color = 'green', label = 'Profit')\n",
    "plt.legend()"
   ]
  },
  {
   "cell_type": "markdown",
   "metadata": {},
   "source": [
    "Histogram"
   ]
  },
  {
   "cell_type": "code",
   "execution_count": 108,
   "metadata": {},
   "outputs": [
    {
     "data": {
      "image/png": "[encoded data removed]",
      "text/plain": [
       "<Figure size 432x288 with 1 Axes>"
      ]
     },
     "metadata": {},
     "output_type": "display_data"
    }
   ],
   "source": [
    "data = df['Quantity ordered new']\n",
    "bins = np.arange(min(data), max(data) + 1, 1)\n",
    "plt.hist(df['Quantity ordered new'], bins)\n",
    "plt.legend(df.index, loc = 'lower right')\n",
    "plt.show()"
   ]
  },
  {
   "cell_type": "markdown",
   "metadata": {},
   "source": [
    "Seaborn Histogram"
   ]
  },
  {
   "cell_type": "code",
   "execution_count": 113,
   "metadata": {},
   "outputs": [
    {
     "name": "stderr",
     "output_type": "stream",
     "text": [
      "c:\\Users\\hiten\\AppData\\Local\\Programs\\Python\\Python310\\lib\\site-packages\\seaborn\\distributions.py:2619: FutureWarning: `distplot` is a deprecated function and will be removed in a future version. Please adapt your code to use either `displot` (a figure-level function with similar flexibility) or `histplot` (an axes-level function for histograms).\n",
      "  warnings.warn(msg, FutureWarning)\n"
     ]
    },
    {
     "data": {
      "image/png": "[encoded data removed]",
      "text/plain": [
       "<Figure size 432x288 with 1 Axes>"
      ]
     },
     "metadata": {},
     "output_type": "display_data"
    }
   ],
   "source": [
    "x = np.random.randn(1000)\n",
    "sns.distplot(x)\n",
    "plt.show()"
   ]
  },
  {
   "cell_type": "markdown",
   "metadata": {},
   "source": [
    "2D Histogram"
   ]
  },
  {
   "cell_type": "code",
   "execution_count": 115,
   "metadata": {},
   "outputs": [
    {
     "data": {
      "image/png": "[encoded data removed]",
      "text/plain": [
       "<Figure size 432x288 with 1 Axes>"
      ]
     },
     "metadata": {},
     "output_type": "display_data"
    }
   ],
   "source": [
    "x = np.random.randn(1000)\n",
    "y = 2 *  np.random.randn(1000)\n",
    "plt.hist2d(x,y)\n",
    "plt.show()"
   ]
  },
  {
   "cell_type": "markdown",
   "metadata": {},
   "source": [
    "Pie Chart"
   ]
  },
  {
   "cell_type": "code",
   "execution_count": 131,
   "metadata": {},
   "outputs": [
    {
     "data": {
      "image/png": "[encoded data removed]",
      "text/plain": [
       "<Figure size 432x288 with 1 Axes>"
      ]
     },
     "metadata": {},
     "output_type": "display_data"
    }
   ],
   "source": [
    "colors_ = ['red', 'purple', 'yellow']\n",
    "plt.pie(sales_data['Sales'], labels = sales_data.index, autopct = '%1.2f%%',\n",
    "\n",
    "            colors = colors_\n",
    "            )\n",
    "plt.show()"
   ]
  },
  {
   "cell_type": "markdown",
   "metadata": {},
   "source": [
    "Slice the pie chart"
   ]
  },
  {
   "cell_type": "code",
   "execution_count": 141,
   "metadata": {},
   "outputs": [
    {
     "data": {
      "image/png": "[encoded data removed]",
      "text/plain": [
       "<Figure size 432x288 with 1 Axes>"
      ]
     },
     "metadata": {},
     "output_type": "display_data"
    }
   ],
   "source": [
    "colors_ = ['red', 'purple', 'yellow']\n",
    "explode_val = (0.1,0.1,0.1)\n",
    "plt.pie(sales_data['Sales'], labels = sales_data.index, autopct = '%1.2f%%', explode = explode_val,\n",
    "\n",
    "            labeldistance = 1.2 , rotatelabels = True,colors = colors_\n",
    "            )\n",
    "plt.show()"
   ]
  },
  {
   "cell_type": "markdown",
   "metadata": {},
   "source": [
    "Scatter Chart"
   ]
  },
  {
   "cell_type": "code",
   "execution_count": 158,
   "metadata": {},
   "outputs": [
    {
     "data": {
      "image/png": "[encoded data removed]",
      "text/plain": [
       "<Figure size 432x288 with 1 Axes>"
      ]
     },
     "metadata": {},
     "output_type": "display_data"
    }
   ],
   "source": [
    "plt.scatter(df['Sales'], df['Profit'], color = 'red', marker = '*', alpha = 0.5, s = 50) #size\n",
    "plt.show()"
   ]
  }
 ],
 "metadata": {
  "interpreter": {
   "hash": "2c4a0e462d5eb47ccb02ab75c092febb222556232e160fc793b5c239a0fdd870"
  },
  "kernelspec": {
   "display_name": "Python 3.10.0 64-bit",
   "language": "python",
   "name": "python3"
  },
  "language_info": {
   "codemirror_mode": {
    "name": "ipython",
    "version": 3
   },
   "file_extension": ".py",
   "mimetype": "text/x-python",
   "name": "python",
   "nbconvert_exporter": "python",
   "pygments_lexer": "ipython3",
   "version": "3.10.0"
  },
  "orig_nbformat": 4
 },
 "nbformat": 4,
 "nbformat_minor": 2
}
