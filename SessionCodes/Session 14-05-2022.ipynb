{
 "cells": [
  {
   "cell_type": "markdown",
   "metadata": {},
   "source": [
    "if else statement"
   ]
  },
  {
   "cell_type": "code",
   "execution_count": 3,
   "metadata": {},
   "outputs": [
    {
     "name": "stdout",
     "output_type": "stream",
     "text": [
      "the number is odd\n"
     ]
    }
   ],
   "source": [
    "n = int(input(\"Enter a number: \"))\n",
    "if(n % 2 == 0):\n",
    "    print(\"The number is even\")\n",
    "else:\n",
    "    print(\"the number is odd\")\n"
   ]
  },
  {
   "cell_type": "markdown",
   "metadata": {},
   "source": [
    "if elif else"
   ]
  },
  {
   "cell_type": "code",
   "execution_count": 5,
   "metadata": {},
   "outputs": [
    {
     "name": "stdout",
     "output_type": "stream",
     "text": [
      "Select from the below menu: \n",
      "1. Apple\t2. Samsung\t3. OnePlus\n",
      "Thanks for selecting Samsung\n"
     ]
    }
   ],
   "source": [
    "print(\"Select from the below menu: \")\n",
    "print(\"1. Apple\" + \"\\t\" + \"2. Samsung\" + \"\\t\" + \"3. OnePlus\")\n",
    "ch = int(input(\"Enter your choice: \"))\n",
    "if (ch == 1):\n",
    "    print(\"Thanks for selecting Apple\")\n",
    "elif (ch == 2):\n",
    "    print(\"Thanks for selecting Samsung\")\n",
    "elif (ch == 3):\n",
    "    print(\"Thanks for selecting OnePlus\")\n",
    "else:\n",
    "    print(\"Wrong Choice\")"
   ]
  },
  {
   "cell_type": "markdown",
   "metadata": {},
   "source": [
    "nested if"
   ]
  },
  {
   "cell_type": "code",
   "execution_count": 9,
   "metadata": {},
   "outputs": [
    {
     "name": "stdout",
     "output_type": "stream",
     "text": [
      "2015 is a normal year\n"
     ]
    }
   ],
   "source": [
    "#checking leap year\n",
    "year = int(input(\"Enter the year: \"))\n",
    "if(year % 100 == 0):\n",
    "    if(year % 400 == 0):\n",
    "        print(f\"{year} is a century year as well as leap year\")\n",
    "    else:\n",
    "        print(f\"{year} is just a century year\")\n",
    "else:\n",
    "    if(year % 4 == 0):\n",
    "        print(f\"{year} is just a leap year\")\n",
    "    else:\n",
    "        print(f\"{year} is a normal year\")"
   ]
  },
  {
   "cell_type": "markdown",
   "metadata": {},
   "source": [
    "loop"
   ]
  },
  {
   "cell_type": "code",
   "execution_count": 137,
   "metadata": {},
   "outputs": [
    {
     "name": "stdout",
     "output_type": "stream",
     "text": [
      "Hello, How are you?\n",
      "Hello, How are you?\n",
      "Hello, How are you?\n",
      "Hello, How are you?\n",
      "Hello, How are you?\n"
     ]
    }
   ],
   "source": [
    "for i in range(5):\n",
    "    print(\"Hello, How are you?\")"
   ]
  },
  {
   "cell_type": "code",
   "execution_count": 12,
   "metadata": {},
   "outputs": [
    {
     "name": "stdout",
     "output_type": "stream",
     "text": [
      "0\n",
      "1\n",
      "2\n",
      "3\n",
      "4\n"
     ]
    }
   ],
   "source": [
    "for i in range(5): #will take values from 0 to n-1\n",
    "    print(i)"
   ]
  },
  {
   "cell_type": "code",
   "execution_count": 142,
   "metadata": {},
   "outputs": [
    {
     "name": "stdout",
     "output_type": "stream",
     "text": [
      "70\n",
      "68\n",
      "66\n",
      "64\n",
      "62\n",
      "60\n",
      "58\n",
      "56\n",
      "54\n",
      "52\n"
     ]
    }
   ],
   "source": [
    "for i in range(70,50,-2):\n",
    "    print(i)"
   ]
  },
  {
   "cell_type": "markdown",
   "metadata": {},
   "source": [
    "while loop"
   ]
  },
  {
   "cell_type": "code",
   "execution_count": 25,
   "metadata": {},
   "outputs": [
    {
     "name": "stdout",
     "output_type": "stream",
     "text": [
      "the number taken out for sum is = 6\n",
      "The sum so far is = 6\n",
      "Remainig digits in the number is 5\n",
      "the number taken out for sum is = 5\n",
      "The sum so far is = 11\n",
      "Remainig digits in the number is 0\n",
      "the final sum of digits of 56 is = 11\n"
     ]
    }
   ],
   "source": [
    "#print the sum of digits of a number , 567 => 5 + 6 + 7 = 18\n",
    "n = int(input(\"Enter a number: \"))\n",
    "sum = 0\n",
    "n1 = n\n",
    "while(n1 > 0):\n",
    "    a = n1 % 10 #this will give the last digit\n",
    "    sum += a #adding the digit to sum\n",
    "    n1 //= 10 #this will give us the remaining digits\n",
    "    print(f\"the number taken out for sum is = {a}\")\n",
    "    print(f\"The sum so far is = {sum}\")\n",
    "    print(f\"Remainig digits in the number is {n1}\")\n",
    "print(f\"the final sum of digits of {n} is = {sum}\")\n"
   ]
  },
  {
   "cell_type": "markdown",
   "metadata": {},
   "source": [
    "break"
   ]
  },
  {
   "cell_type": "code",
   "execution_count": 30,
   "metadata": {},
   "outputs": [
    {
     "name": "stdout",
     "output_type": "stream",
     "text": [
      "The number >= 50\n"
     ]
    }
   ],
   "source": [
    "n = int(input(\"Enter a number: \"))\n",
    "for i in range (50):\n",
    "    if( i == n):\n",
    "        print(\"The number is < 50\")\n",
    "        break\n",
    "else:\n",
    "    print(\"The number >= 50\")"
   ]
  },
  {
   "cell_type": "markdown",
   "metadata": {},
   "source": [
    "continue"
   ]
  },
  {
   "cell_type": "code",
   "execution_count": 153,
   "metadata": {},
   "outputs": [
    {
     "name": "stdout",
     "output_type": "stream",
     "text": [
      "0\n",
      "1\n",
      "2\n",
      "3\n",
      "4\n",
      "5\n",
      "6\n",
      "Skipping the number\n",
      "8\n",
      "9\n"
     ]
    }
   ],
   "source": [
    "n = int(input(\"Enter a number: \"))\n",
    "for i in range (10):\n",
    "    if( i == n):\n",
    "        print(\"Skipping the number\")\n",
    "        continue\n",
    "    print(i)"
   ]
  },
  {
   "cell_type": "markdown",
   "metadata": {},
   "source": [
    "string"
   ]
  },
  {
   "cell_type": "code",
   "execution_count": 154,
   "metadata": {},
   "outputs": [
    {
     "name": "stdout",
     "output_type": "stream",
     "text": [
      "I\n",
      "-\n",
      "L\n",
      "i\n",
      "k\n",
      "e\n",
      "-\n",
      "t\n",
      "o\n",
      "-\n",
      "e\n",
      "a\n",
      "t\n",
      "-\n",
      "A\n",
      "p\n",
      "p\n",
      "l\n",
      "e\n",
      "-\n",
      "e\n",
      "v\n",
      "e\n",
      "r\n",
      "y\n",
      "d\n",
      "a\n",
      "y\n"
     ]
    }
   ],
   "source": [
    "x = \"I-Like-to-eat-Apple-everyday\"\n",
    "for i in x:\n",
    "    print(i)"
   ]
  },
  {
   "cell_type": "code",
   "execution_count": 160,
   "metadata": {},
   "outputs": [
    {
     "name": "stdout",
     "output_type": "stream",
     "text": [
      "I-Like-to-eat-Apple-everyday\n",
      "i\n",
      "I-Lik\n",
      "e-to-\n",
      "-to-eat-Apple-everyday\n",
      "I-Like-to-eat-Apple-ever\n"
     ]
    }
   ],
   "source": [
    "print(x)\n",
    "print(x[3])\n",
    "print(x[:5]) #this will give first five letters\n",
    "print(x[5:10]) #this will print letters from 6th till 10th position\n",
    "print(x[6:]) #this will print letter from 7th position till the last of sentence\n",
    "print(x[:-4]) #this will print till last 4th letter"
   ]
  },
  {
   "cell_type": "code",
   "execution_count": 42,
   "metadata": {},
   "outputs": [
    {
     "name": "stdout",
     "output_type": "stream",
     "text": [
      "5\n",
      "M\n",
      "a\n",
      "n\n",
      "g\n",
      "o\n"
     ]
    }
   ],
   "source": [
    "x = \"Mango\"\n",
    "print(len(x))\n",
    "for i in range(len(x)):\n",
    "    print(x[i])"
   ]
  },
  {
   "cell_type": "code",
   "execution_count": 161,
   "metadata": {},
   "outputs": [
    {
     "name": "stdout",
     "output_type": "stream",
     "text": [
      "Banana Mango\n"
     ]
    }
   ],
   "source": [
    "x = \"Banana\"\n",
    "y = \"Mango\"\n",
    "print(x + \" \" + y)"
   ]
  },
  {
   "cell_type": "markdown",
   "metadata": {},
   "source": [
    "List"
   ]
  },
  {
   "cell_type": "code",
   "execution_count": 164,
   "metadata": {},
   "outputs": [
    {
     "name": "stdout",
     "output_type": "stream",
     "text": [
      "7\n",
      "<class 'int'>\n",
      "<class 'int'>\n",
      "<class 'str'>\n",
      "<class 'float'>\n",
      "<class 'int'>\n",
      "<class 'list'>\n",
      "<class 'tuple'>\n"
     ]
    }
   ],
   "source": [
    "x = [1, 5, \"Mango\", 8.8, 9, [3, 5, 7], (5, 7, 8) ]\n",
    "print(len(x))\n",
    "for i in x:\n",
    "    print(type(i))"
   ]
  },
  {
   "cell_type": "code",
   "execution_count": 166,
   "metadata": {},
   "outputs": [
    {
     "name": "stdout",
     "output_type": "stream",
     "text": [
      "5\n",
      "(5, 7, 8)\n",
      "[1, 5, 'Mango']\n",
      "[5, 'Mango', 8.8, 9]\n",
      "[8.8, 9, [3, 5, 7], (5, 7, 8)]\n"
     ]
    }
   ],
   "source": [
    "x = [1, 5, \"Mango\", 8.8, 9, [3, 5, 7], (5, 7, 8) ]\n",
    "print(x[1])\n",
    "print(x[-1]) #will give last element\n",
    "print(x[0:3]) #first three elements, if we don't give anything on left of colon(:) it'll take it as 0\n",
    "print(x[1:-2]) #will get elements between 2nd and 2nd last\n",
    "print(x[3:])"
   ]
  },
  {
   "cell_type": "code",
   "execution_count": 167,
   "metadata": {},
   "outputs": [
    {
     "name": "stdout",
     "output_type": "stream",
     "text": [
      "[1, 'Peach', 5, 'Mango', 8.8, 9, [3, 5, 7], (5, 7, 8), 'Kiwi']\n"
     ]
    }
   ],
   "source": [
    "x.append(\"Kiwi\")\n",
    "x.insert(1,\"Peach\")\n",
    "print(x)"
   ]
  },
  {
   "cell_type": "code",
   "execution_count": 66,
   "metadata": {},
   "outputs": [
    {
     "name": "stdout",
     "output_type": "stream",
     "text": [
      "[1, 5, 'Mango', 8.8, 9, 'Car', 'Bike', 'Truck']\n"
     ]
    }
   ],
   "source": [
    "x = [1, 5, \"Mango\", 8.8, 9 ]\n",
    "y = [\"Car\", \"Bike\", \"Truck\"]\n",
    "x.extend(y)\n",
    "print(x)"
   ]
  },
  {
   "cell_type": "code",
   "execution_count": 172,
   "metadata": {},
   "outputs": [
    {
     "name": "stdout",
     "output_type": "stream",
     "text": [
      "[1, 5, 0, 4, 9, 5, 5, 6, 6, 7]\n",
      "[1, 5, 0, 4, 9, 5, 5, 6, 6, 7]\n",
      "[-15, 0, 1, 4, 5, 5, 5, 6, 6, 7, 9]\n",
      "[9, 7, 6, 6, 5, 5, 5, 4, 1, 0, -15]\n",
      "4\n",
      "3\n"
     ]
    }
   ],
   "source": [
    "\n",
    "x = [1, 5, 0, 4 , 9 ,5,5,6,6,7]\n",
    "y = x.copy()\n",
    "print(x)\n",
    "y.append(-15)\n",
    "print(x)\n",
    "y.sort()\n",
    "#print(y.sort())\n",
    "print(y)\n",
    "y.reverse()\n",
    "print(y)\n",
    "print(y.index(5))\n",
    "print(y.count(5))\n",
    "#sum(x)"
   ]
  },
  {
   "cell_type": "markdown",
   "metadata": {},
   "source": [
    "list comprehensions"
   ]
  },
  {
   "cell_type": "code",
   "execution_count": 174,
   "metadata": {},
   "outputs": [
    {
     "name": "stdout",
     "output_type": "stream",
     "text": [
      "[2, 5, 7, 8, 9, 10]\n",
      "[4, 25, 49, 64, 81, 100]\n",
      "[2, 8, 10]\n"
     ]
    }
   ],
   "source": [
    "x = [ 2, 5, 7, 8, 9, 10 ]\n",
    "y = [i*i for i in x]\n",
    "z = [i for i in x if(i % 2 == 0)]\n",
    "print(x)\n",
    "print(y)\n",
    "print(z)"
   ]
  },
  {
   "cell_type": "markdown",
   "metadata": {},
   "source": [
    "tuple"
   ]
  },
  {
   "cell_type": "code",
   "execution_count": 176,
   "metadata": {},
   "outputs": [
    {
     "name": "stdout",
     "output_type": "stream",
     "text": [
      "(2, 5, 7, 8, 9, 10)\n",
      "[2, 'Mango', 7, 8, 9, 10]\n"
     ]
    }
   ],
   "source": [
    "x = ( 2, 5, 7, 8, 9, 10 )\n",
    "y = [ 2, 5, 7, 8, 9, 10 ]\n",
    "#x[1] = \"Mango\"\n",
    "print(x)\n",
    "y[1] = \"Mango\"\n",
    "print(y)"
   ]
  },
  {
   "cell_type": "markdown",
   "metadata": {},
   "source": [
    "set"
   ]
  },
  {
   "cell_type": "code",
   "execution_count": 177,
   "metadata": {},
   "outputs": [
    {
     "name": "stdout",
     "output_type": "stream",
     "text": [
      "{1, 2, 3, 4, 5, 6}\n"
     ]
    }
   ],
   "source": [
    "s1 = { 1,2,3,3,4,4,4,4,4,5,5,5,5,5,5,5,5,5,6,6,6,6,6,6,1,1,1,1,1,1,1}\n",
    "print(s1)\n",
    "#s1 = list(s1)\n",
    "#s1.sort()\n",
    "#print(s1)"
   ]
  },
  {
   "cell_type": "markdown",
   "metadata": {},
   "source": [
    "dictionary"
   ]
  },
  {
   "cell_type": "code",
   "execution_count": 179,
   "metadata": {},
   "outputs": [
    {
     "name": "stdout",
     "output_type": "stream",
     "text": [
      "{'A': 'Apple', 'B': 'Banana', 'C': 'Cat', 'D': 'Drum'}\n",
      "Banana\n",
      "Drum\n"
     ]
    }
   ],
   "source": [
    "dict1 = {\"A\": \"Apple\", \"B\": \"Banana\", \"C\": \"Cat\", \"D\": \"Drum\"}\n",
    "print(dict1)\n",
    "print(dict1[\"B\"])#this will give value corresponding to Key \"B\"\n",
    "print(dict1[\"D\"])"
   ]
  },
  {
   "cell_type": "code",
   "execution_count": 182,
   "metadata": {},
   "outputs": [
    {
     "name": "stdout",
     "output_type": "stream",
     "text": [
      "A , Apple\n",
      "B , Banana\n",
      "C , Cat\n",
      "D , Drum\n"
     ]
    }
   ],
   "source": [
    "for i in dict1:\n",
    "    print(i + \" , \" + dict1[i])"
   ]
  }
 ],
 "metadata": {
  "interpreter": {
   "hash": "2c4a0e462d5eb47ccb02ab75c092febb222556232e160fc793b5c239a0fdd870"
  },
  "kernelspec": {
   "display_name": "Python 3.10.0 64-bit",
   "language": "python",
   "name": "python3"
  },
  "language_info": {
   "codemirror_mode": {
    "name": "ipython",
    "version": 3
   },
   "file_extension": ".py",
   "mimetype": "text/x-python",
   "name": "python",
   "nbconvert_exporter": "python",
   "pygments_lexer": "ipython3",
   "version": "3.10.0"
  },
  "orig_nbformat": 4
 },
 "nbformat": 4,
 "nbformat_minor": 2
}
