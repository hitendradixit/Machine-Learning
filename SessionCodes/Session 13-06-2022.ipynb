{
 "cells": [
  {
   "cell_type": "markdown",
   "metadata": {},
   "source": [
    "1. Rides on Monday - 5000\n",
    "2. Rides on Tuesday - 4500\n",
    "3. Rides on Wednesday - 4800\n",
    "4. Rides on Thrusday - 5100\n",
    "5. Rides on Friday - 7000\n",
    "6. Rides on Saturday - 1800\n",
    "7. Rides on Sunday - 900"
   ]
  },
  {
   "cell_type": "code",
   "execution_count": 2,
   "metadata": {},
   "outputs": [],
   "source": [
    "import statistics"
   ]
  },
  {
   "cell_type": "code",
   "execution_count": 4,
   "metadata": {},
   "outputs": [
    {
     "name": "stdout",
     "output_type": "stream",
     "text": [
      "2.5298221281347035\n",
      "5.2\n"
     ]
    }
   ],
   "source": [
    "print(statistics.stdev([4, 8, 5, 6, 3, 2, 8, 9, 2, 5]))\n",
    "print(statistics.mean([4, 8, 5, 6, 3, 2, 8, 9, 2, 5]))"
   ]
  },
  {
   "cell_type": "markdown",
   "metadata": {},
   "source": [
    "Features/Variables\n",
    "1. ID\n",
    "2. Gender\n",
    "3. Age\n",
    "4. hypertension\n",
    "5. heart_disease\n",
    "6. Ever Married\n",
    "7. Work Type\n",
    "8. Residence Type\n",
    "9. BMI\n",
    "10. Avg Glucose level\n",
    "\n",
    "To predict\n",
    "1. stroke"
   ]
  }
 ],
 "metadata": {
  "kernelspec": {
   "display_name": "Python 3.10.0 64-bit",
   "language": "python",
   "name": "python3"
  },
  "language_info": {
   "codemirror_mode": {
    "name": "ipython",
    "version": 3
   },
   "file_extension": ".py",
   "mimetype": "text/x-python",
   "name": "python",
   "nbconvert_exporter": "python",
   "pygments_lexer": "ipython3",
   "version": "3.10.0"
  },
  "orig_nbformat": 4,
  "vscode": {
   "interpreter": {
    "hash": "2c4a0e462d5eb47ccb02ab75c092febb222556232e160fc793b5c239a0fdd870"
   }
  }
 },
 "nbformat": 4,
 "nbformat_minor": 2
}
