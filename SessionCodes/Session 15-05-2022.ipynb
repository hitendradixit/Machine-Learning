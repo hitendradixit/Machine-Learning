{
 "cells": [
  {
   "cell_type": "code",
   "execution_count": 1,
   "metadata": {},
   "outputs": [],
   "source": [
    "import numpy as np"
   ]
  },
  {
   "cell_type": "code",
   "execution_count": 2,
   "metadata": {},
   "outputs": [
    {
     "name": "stdout",
     "output_type": "stream",
     "text": [
      "[1 4 5 6 7 7 8]\n"
     ]
    }
   ],
   "source": [
    "arr = np.array([1, 4, 5, 6, 7, 7, 8]) #1D array\n",
    "print(arr)"
   ]
  },
  {
   "cell_type": "code",
   "execution_count": 3,
   "metadata": {},
   "outputs": [
    {
     "name": "stdout",
     "output_type": "stream",
     "text": [
      "[[1 3 4]\n",
      " [5 6 1]\n",
      " [4 5 6]]\n"
     ]
    }
   ],
   "source": [
    "arr = np.array([[1, 3, 4], [5, 6, 1], [4, 5, 6]])\n",
    "print(arr)"
   ]
  },
  {
   "cell_type": "code",
   "execution_count": 7,
   "metadata": {},
   "outputs": [
    {
     "name": "stdout",
     "output_type": "stream",
     "text": [
      "[[1 3 4]\n",
      " [5 6 1]\n",
      " [4 5 6]]\n",
      "35\n",
      "[10 14 11]\n",
      "[ 8 12 15]\n"
     ]
    }
   ],
   "source": [
    "arr = np.array([[1, 3, 4], [5, 6, 1], [4, 5, 6]])\n",
    "print(arr)\n",
    "print(arr.sum())\n",
    "print(arr.sum(axis= 0)) #this sums up the array column wise\n",
    "print(arr.sum(axis= 1)) #this sums up the array row wise"
   ]
  },
  {
   "cell_type": "code",
   "execution_count": 8,
   "metadata": {},
   "outputs": [
    {
     "name": "stdout",
     "output_type": "stream",
     "text": [
      "[[1 3 4]\n",
      " [5 6 1]\n",
      " [4 5 6]]\n",
      "The average of whole array is : 3.888888888888889\n",
      "The average of array column wise is : [3.33333333 4.66666667 3.66666667]\n",
      "The average of array row wise is : [2.66666667 4.         5.        ]\n"
     ]
    }
   ],
   "source": [
    "arr = np.array([[1, 3, 4], [5, 6, 1], [4, 5, 6]])\n",
    "print(arr)\n",
    "print(f\"The average of whole array is : {np.average(arr)}\")\n",
    "print(f\"The average of array column wise is : {np.average(arr, axis = 0)}\")\n",
    "print(f\"The average of array row wise is : {np.average(arr, axis = 1)}\")"
   ]
  },
  {
   "cell_type": "code",
   "execution_count": 10,
   "metadata": {},
   "outputs": [
    {
     "name": "stdout",
     "output_type": "stream",
     "text": [
      "[[1 3 4]\n",
      " [5 6 1]\n",
      " [4 5 6]]\n",
      "The prod of whole array is : 43200\n",
      "The prod of array column wise is : [20 90 24]\n",
      "The prod of array row wise is : [ 12  30 120]\n"
     ]
    }
   ],
   "source": [
    "arr = np.array([[1, 3, 4], [5, 6, 1], [4, 5, 6]])\n",
    "print(arr)\n",
    "print(f\"The prod of whole array is : {np.prod(arr)}\")\n",
    "print(f\"The prod of array column wise is : {np.prod(arr, axis = 0)}\")\n",
    "print(f\"The prod of array row wise is : {np.prod(arr, axis = 1)}\")"
   ]
  },
  {
   "cell_type": "code",
   "execution_count": 14,
   "metadata": {},
   "outputs": [
    {
     "name": "stdout",
     "output_type": "stream",
     "text": [
      "[[1 3 4]\n",
      " [5 6 1]\n",
      " [4 5 6]]\n",
      "The min of whole array is : 1\n",
      "The min of array column wise is : [1 3 1]\n",
      "The min of array row wise is : [1 1 4]\n"
     ]
    }
   ],
   "source": [
    "arr = np.array([[1, 3, 4], [5, 6, 1], [4, 5, 6]])\n",
    "print(arr)\n",
    "print(f\"The min of whole array is : {np.min(arr)}\")\n",
    "print(f\"The min of array column wise is : {np.min(arr, axis = 0)}\")\n",
    "print(f\"The min of array row wise is : {np.min(arr, axis = 1)}\")"
   ]
  },
  {
   "cell_type": "code",
   "execution_count": 12,
   "metadata": {},
   "outputs": [
    {
     "name": "stdout",
     "output_type": "stream",
     "text": [
      "[[1 3 4]\n",
      " [5 6 1]\n",
      " [4 5 6]]\n",
      "The max of whole array is : 6\n",
      "The max of array column wise is : [5 6 6]\n",
      "The max of array row wise is : [4 6 6]\n"
     ]
    }
   ],
   "source": [
    "arr = np.array([[1, 3, 4], [5, 6, 1], [4, 5, 6]])\n",
    "print(arr)\n",
    "print(f\"The max of whole array is : {np.max(arr)}\")\n",
    "print(f\"The max of array column wise is : {np.max(arr, axis = 0)}\")\n",
    "print(f\"The max of array row wise is : {np.max(arr, axis = 1)}\")"
   ]
  },
  {
   "cell_type": "code",
   "execution_count": 17,
   "metadata": {},
   "outputs": [
    {
     "name": "stdout",
     "output_type": "stream",
     "text": [
      "[[1 3 4]\n",
      " [5 6 1]\n",
      " [4 5 6]]\n",
      "[[4 3 2]\n",
      " [1 5 7]\n",
      " [7 8 1]]\n",
      "The minimum of 2 array is : \n",
      "[[1 3 2]\n",
      " [1 5 1]\n",
      " [4 5 1]]\n"
     ]
    }
   ],
   "source": [
    "arr1 = np.array([[1, 3, 4], [5, 6, 1], [4, 5, 6]])\n",
    "arr2 = np.array([[4, 3, 2], [1, 5, 7], [7, 8,1]])\n",
    "print(arr1)\n",
    "print(arr2)\n",
    "print(f\"The minimum of 2 array is : \\n{np.minimum(arr1,arr2)}\")"
   ]
  },
  {
   "cell_type": "code",
   "execution_count": 24,
   "metadata": {},
   "outputs": [
    {
     "name": "stdout",
     "output_type": "stream",
     "text": [
      "[[1 3 4]\n",
      " [5 6 1]\n",
      " [4 5 6]]\n",
      "[[4 3 2]\n",
      " [1 5 7]\n",
      " [7 8 1]]\n",
      "The maximum of 2 array is : \n",
      "[[4 3 4]\n",
      " [5 6 7]\n",
      " [7 8 6]]\n"
     ]
    }
   ],
   "source": [
    "arr1 = np.array([[1, 3, 4], [5, 6, 1], [4, 5, 6]])\n",
    "arr2 = np.array([[4, 3, 2], [1, 5, 7], [7, 8,1]])\n",
    "print(arr1)\n",
    "print(arr2)\n",
    "print(f\"The maximum of 2 array is : \\n{np.maximum(arr1,arr2)}\")"
   ]
  },
  {
   "cell_type": "markdown",
   "metadata": {},
   "source": [
    "Median"
   ]
  },
  {
   "cell_type": "code",
   "execution_count": 29,
   "metadata": {},
   "outputs": [
    {
     "name": "stdout",
     "output_type": "stream",
     "text": [
      "12\n",
      "[ 0  1  2  4  5  6 23 44 45 55 67 78]\n",
      "The median of the array is : 14.5\n"
     ]
    }
   ],
   "source": [
    "list1 = [ 1, 4, 2, 0, 5, 6, 55, 44, 45, 67, 23, 78]\n",
    "list1.sort()\n",
    "print(len(list1))\n",
    "arr1 = np.array(list1)\n",
    "print(arr1)\n",
    "print(f\"The median of the array is : {np.median(arr1)}\")"
   ]
  },
  {
   "cell_type": "markdown",
   "metadata": {},
   "source": [
    "Arithmetic Operations"
   ]
  },
  {
   "cell_type": "code",
   "execution_count": 32,
   "metadata": {},
   "outputs": [
    {
     "name": "stdout",
     "output_type": "stream",
     "text": [
      "The sum of 2 array is : [[ 5  6  6]\n",
      " [ 6 11  8]\n",
      " [11 13  7]]\n",
      "The difference of 2 array is : [[-3  0  2]\n",
      " [ 4  1 -6]\n",
      " [-3 -3  5]]\n",
      "The multiplication of 2 array is : [[ 4  9  8]\n",
      " [ 5 30  7]\n",
      " [28 40  6]]\n",
      "The division of 2 array is : [[0.25       1.         2.        ]\n",
      " [5.         1.2        0.14285714]\n",
      " [0.57142857 0.625      6.        ]]\n",
      "The mod of 2 array is : [[1 0 0]\n",
      " [0 1 1]\n",
      " [4 5 0]]\n",
      "The remainder of 2 array is : [[1 0 0]\n",
      " [0 1 1]\n",
      " [4 5 0]]\n"
     ]
    }
   ],
   "source": [
    "arr1 = np.array([[1, 3, 4], [5, 6, 1], [4, 5, 6]])\n",
    "arr2 = np.array([[4, 3, 2], [1, 5, 7], [7, 8,1]])\n",
    "print(f\"The sum of 2 array is : {np.add(arr1, arr2)}\")\n",
    "print(f\"The difference of 2 array is : {np.subtract(arr1, arr2)}\")\n",
    "print(f\"The multiplication of 2 array is : {np.multiply(arr1, arr2)}\")\n",
    "print(f\"The division of 2 array is : {np.divide(arr1, arr2)}\")\n",
    "print(f\"The mod of 2 array is : {np.mod(arr1, arr2)}\")\n",
    "print(f\"The remainder of 2 array is : {np.remainder(arr1, arr2)}\")"
   ]
  },
  {
   "cell_type": "markdown",
   "metadata": {},
   "source": [
    "Comparision Operators"
   ]
  },
  {
   "cell_type": "code",
   "execution_count": 35,
   "metadata": {},
   "outputs": [
    {
     "name": "stdout",
     "output_type": "stream",
     "text": [
      "Checking for greater() : \n",
      " [[False False  True]\n",
      " [ True  True False]\n",
      " [False False  True]]\n",
      "Checking for greater_equal() : \n",
      " [[False  True  True]\n",
      " [ True  True False]\n",
      " [False False  True]]\n",
      "Checking for less() : \n",
      " [[ True False False]\n",
      " [False False  True]\n",
      " [ True  True False]]\n",
      "Checking for less_equal() : \n",
      " [[ True  True False]\n",
      " [False False  True]\n",
      " [ True  True False]]\n",
      "Checking for equal() : \n",
      " [[False  True False]\n",
      " [False False False]\n",
      " [False False False]]\n",
      "Checking for not_equal() : \n",
      " [[ True False  True]\n",
      " [ True  True  True]\n",
      " [ True  True  True]]\n"
     ]
    }
   ],
   "source": [
    "arr1 = np.array([[1, 3, 4], [5, 6, 1], [4, 5, 6]])\n",
    "arr2 = np.array([[4, 3, 2], [1, 5, 7], [7, 8,1]])\n",
    "#print(arr1)\n",
    "#print(arr2)\n",
    "print(f\"Checking for greater() : \\n {np.greater(arr1,arr2)}\")\n",
    "print(f\"Checking for greater_equal() : \\n {np.greater_equal(arr1,arr2)}\")\n",
    "print(f\"Checking for less() : \\n {np.less(arr1,arr2)}\")\n",
    "print(f\"Checking for less_equal() : \\n {np.less_equal(arr1,arr2)}\")\n",
    "print(f\"Checking for equal() : \\n {np.equal(arr1,arr2)}\")\n",
    "print(f\"Checking for not_equal() : \\n {np.not_equal(arr1,arr2)}\")"
   ]
  },
  {
   "cell_type": "code",
   "execution_count": 36,
   "metadata": {},
   "outputs": [
    {
     "name": "stdout",
     "output_type": "stream",
     "text": [
      "Checking for > : \n",
      " [[False False  True]\n",
      " [ True  True False]\n",
      " [False False  True]]\n",
      "Checking for >= : \n",
      " [[False  True  True]\n",
      " [ True  True False]\n",
      " [False False  True]]\n",
      "Checking for < : \n",
      " [[ True False False]\n",
      " [False False  True]\n",
      " [ True  True False]]\n",
      "Checking for <= : \n",
      " [[ True  True False]\n",
      " [False False  True]\n",
      " [ True  True False]]\n",
      "Checking for == : \n",
      " [[False  True False]\n",
      " [False False False]\n",
      " [False False False]]\n",
      "Checking for != : \n",
      " [[ True False  True]\n",
      " [ True  True  True]\n",
      " [ True  True  True]]\n"
     ]
    }
   ],
   "source": [
    "arr1 = np.array([[1, 3, 4], [5, 6, 1], [4, 5, 6]])\n",
    "arr2 = np.array([[4, 3, 2], [1, 5, 7], [7, 8,1]])\n",
    "#print(arr1)\n",
    "#print(arr2)\n",
    "print(f\"Checking for > : \\n {arr1 > arr2}\")\n",
    "print(f\"Checking for >= : \\n {arr1 >= arr2}\")\n",
    "print(f\"Checking for < : \\n {arr1 < arr2}\")\n",
    "print(f\"Checking for <= : \\n {arr1 <= arr2}\")\n",
    "print(f\"Checking for == : \\n {arr1 == arr2}\")\n",
    "print(f\"Checking for != : \\n {arr1 != arr2}\")\n"
   ]
  },
  {
   "cell_type": "code",
   "execution_count": 39,
   "metadata": {},
   "outputs": [
    {
     "name": "stdout",
     "output_type": "stream",
     "text": [
      "Checking for != : \n",
      " [[ True False  True]\n",
      " [ True  True  True]\n",
      " [ True  True  True]]\n",
      "Checking for all true : \n",
      " False\n",
      "Checking for some true : \n",
      " True\n"
     ]
    }
   ],
   "source": [
    "arr1 = np.array([[1, 3, 4], [5, 6, 1], [4, 5, 6]])\n",
    "arr2 = np.array([[4, 3, 2], [1, 5, 7], [7, 8,1]])\n",
    "#print(arr1)\n",
    "#print(arr2)\n",
    "print(f\"Checking for != : \\n {arr1 != arr2}\")\n",
    "print(f\"Checking for all true : \\n {np.alltrue(arr1 != arr2)}\")\n",
    "print(f\"Checking for some true : \\n {np.sometrue(arr1 != arr2)}\")\n"
   ]
  },
  {
   "cell_type": "markdown",
   "metadata": {},
   "source": [
    "random values"
   ]
  },
  {
   "cell_type": "code",
   "execution_count": 43,
   "metadata": {},
   "outputs": [
    {
     "name": "stdout",
     "output_type": "stream",
     "text": [
      "[0.51228184 0.8091434  0.3635577  0.59042966 0.90568352 0.84421085\n",
      " 0.69597524]\n"
     ]
    }
   ],
   "source": [
    "arr = np.random.rand(7) #this will generate 7 random values between 0 and 1\n",
    "print(arr)"
   ]
  },
  {
   "cell_type": "code",
   "execution_count": 48,
   "metadata": {},
   "outputs": [
    {
     "name": "stdout",
     "output_type": "stream",
     "text": [
      "[[0.61471228 0.87925069 0.78527778]\n",
      " [0.92950087 0.79587691 0.66270432]\n",
      " [0.95262934 0.91577291 0.78392574]]\n"
     ]
    }
   ],
   "source": [
    "arr = np.random.rand(3,3) #this will generate a 3x3 matric of random values between 0 and 1\n",
    "print(arr)"
   ]
  },
  {
   "cell_type": "code",
   "execution_count": 50,
   "metadata": {},
   "outputs": [
    {
     "name": "stdout",
     "output_type": "stream",
     "text": [
      "[[0.0269909  0.40679414 0.74093739]\n",
      " [0.7274721  0.50886131 0.54487064]\n",
      " [0.00246009 0.29307866 0.40822321]]\n"
     ]
    }
   ],
   "source": [
    "arr = np.random.random((3,3)) #this will generate a 3x3 matric of random values between 0 and 1\n",
    "print(arr)"
   ]
  },
  {
   "cell_type": "code",
   "execution_count": 69,
   "metadata": {},
   "outputs": [
    {
     "name": "stdout",
     "output_type": "stream",
     "text": [
      "[[16 19 16 13]\n",
      " [17 16 17 10]\n",
      " [11 14 13 12]\n",
      " [13 19 10 12]]\n"
     ]
    }
   ],
   "source": [
    "arr = np.random.randint(10, 20, size = (4,4))\n",
    "print(arr)"
   ]
  },
  {
   "cell_type": "code",
   "execution_count": 71,
   "metadata": {},
   "outputs": [
    {
     "name": "stdout",
     "output_type": "stream",
     "text": [
      "[0.24506278 0.53714718 0.91920343 0.84695411 0.96874793 0.27762044\n",
      " 0.29015137]\n"
     ]
    }
   ],
   "source": [
    "arr = np.random.uniform(size = 7)\n",
    "print(arr)"
   ]
  },
  {
   "cell_type": "code",
   "execution_count": 74,
   "metadata": {},
   "outputs": [
    {
     "name": "stdout",
     "output_type": "stream",
     "text": [
      "[[19 19 11 17 12]\n",
      " [10 15 14 17 14]\n",
      " [13 18 17 13 14]\n",
      " [18 15 16 12 10]]\n",
      "(4, 5)\n"
     ]
    }
   ],
   "source": [
    "arr = np.random.randint(10, 20, size = (4,5))\n",
    "print(arr)\n",
    "print(np.shape(arr))"
   ]
  },
  {
   "cell_type": "code",
   "execution_count": 82,
   "metadata": {},
   "outputs": [
    {
     "name": "stdout",
     "output_type": "stream",
     "text": [
      "[[19 19 11 17 12 10 15 14 17 14 13 18 17 13 14 18 15 16 12 10]]\n"
     ]
    }
   ],
   "source": [
    "print(arr.reshape(1,20))"
   ]
  },
  {
   "cell_type": "code",
   "execution_count": 85,
   "metadata": {},
   "outputs": [
    {
     "name": "stdout",
     "output_type": "stream",
     "text": [
      "[[19 19 11 17 12]\n",
      " [10 15 14 17 14]\n",
      " [13 18 17 13 14]\n",
      " [18 15 16 12 10]\n",
      " [19 19 11 17 12]]\n"
     ]
    }
   ],
   "source": [
    "print(np.resize(arr, (5,5)))"
   ]
  },
  {
   "cell_type": "code",
   "execution_count": 87,
   "metadata": {},
   "outputs": [
    {
     "name": "stdout",
     "output_type": "stream",
     "text": [
      "[[19 19 11 17 12]\n",
      " [10 15 14 17 14]\n",
      " [13 18 17 13 14]\n",
      " [18 15 16 12 10]]\n",
      "[[19 10 13 18]\n",
      " [19 15 18 15]\n",
      " [11 14 17 16]\n",
      " [17 17 13 12]\n",
      " [12 14 14 10]]\n"
     ]
    }
   ],
   "source": [
    "print(arr)\n",
    "print(np.transpose(arr))"
   ]
  },
  {
   "cell_type": "code",
   "execution_count": 88,
   "metadata": {},
   "outputs": [
    {
     "name": "stdout",
     "output_type": "stream",
     "text": [
      "[[19 19 11 17 12]\n",
      " [10 15 14 17 14]\n",
      " [13 18 17 13 14]\n",
      " [18 15 16 12 10]]\n",
      "[19 19 11 17 12 10 15 14 17 14 13 18 17 13 14 18 15 16 12 10]\n"
     ]
    }
   ],
   "source": [
    "print(arr)\n",
    "print(arr.flatten())"
   ]
  },
  {
   "cell_type": "code",
   "execution_count": 92,
   "metadata": {},
   "outputs": [
    {
     "name": "stdout",
     "output_type": "stream",
     "text": [
      "[[1 3 4]\n",
      " [5 6 1]\n",
      " [4 5 6]\n",
      " [4 3 2]\n",
      " [1 5 7]\n",
      " [7 8 1]]\n"
     ]
    }
   ],
   "source": [
    "arr1 = np.array([[1, 3, 4], [5, 6, 1], [4, 5, 6]])\n",
    "arr2 = np.array([[4, 3, 2], [1, 5, 7], [7, 8,1]])\n",
    "print(np.concatenate((arr1,arr2), axis = 0))"
   ]
  }
 ],
 "metadata": {
  "interpreter": {
   "hash": "2c4a0e462d5eb47ccb02ab75c092febb222556232e160fc793b5c239a0fdd870"
  },
  "kernelspec": {
   "display_name": "Python 3.10.0 64-bit",
   "language": "python",
   "name": "python3"
  },
  "language_info": {
   "codemirror_mode": {
    "name": "ipython",
    "version": 3
   },
   "file_extension": ".py",
   "mimetype": "text/x-python",
   "name": "python",
   "nbconvert_exporter": "python",
   "pygments_lexer": "ipython3",
   "version": "3.10.0"
  },
  "orig_nbformat": 4
 },
 "nbformat": 4,
 "nbformat_minor": 2
}
